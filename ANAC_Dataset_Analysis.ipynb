{
  "cells": [
    {
      "cell_type": "markdown",
      "metadata": {
        "id": "view-in-github",
        "colab_type": "text"
      },
      "source": [
        "<a href=\"https://colab.research.google.com/github/GabrielCdev/ANAC_BigData_Analysis/blob/main/ANAC_Dataset_Analysis.ipynb\" target=\"_parent\"><img src=\"https://colab.research.google.com/assets/colab-badge.svg\" alt=\"Open In Colab\"/></a>"
      ]
    },
    {
      "cell_type": "markdown",
      "metadata": {
        "id": "75m7x_aSssWs"
      },
      "source": [
        "#Análise da base de vôos registrados pela ANAC (2021)\n",
        "\n",
        "....:::: Membros ::::....\n",
        "\n",
        "Gabriel Calheiros\n",
        "\n",
        "Izadora Paim\n",
        "\n",
        "Laianne Protasio"
      ]
    },
    {
      "cell_type": "markdown",
      "metadata": {
        "id": "7JcgsQ0zsdoD"
      },
      "source": [
        "#Objetivo\n",
        "O objetivo central desta análise é compreender o volume de voos, bem como seus status de execução, atrasos e cancelamentos no ano 2021, após o início dos decretos de enfrentamento à pandemia no Brasil (lockdown - 2020)."
      ]
    },
    {
      "cell_type": "markdown",
      "source": [
        "# Carregamento e pré-análise do dataset"
      ],
      "metadata": {
        "id": "-RqBHvB557vX"
      }
    },
    {
      "cell_type": "markdown",
      "metadata": {
        "id": "dl5lXgA5vl4i"
      },
      "source": [
        "##Importação de Dados"
      ]
    },
    {
      "cell_type": "code",
      "execution_count": null,
      "metadata": {
        "id": "hSkFTnlBrBpB"
      },
      "outputs": [],
      "source": [
        "# Importação de bibliotecas necessárias\n",
        "import numpy as np\n",
        "import pandas as pd\n",
        "import matplotlib as mpl\n",
        "import matplotlib.pyplot as plt\n",
        "import seaborn as sns"
      ]
    },
    {
      "cell_type": "code",
      "execution_count": null,
      "metadata": {
        "id": "Hx9tySSdZgZO"
      },
      "outputs": [],
      "source": [
        "# Configurações para os gráficos\n",
        "pd.set_option(\"display.precision\", 2)\n",
        "sns.set_style(\"whitegrid\")"
      ]
    },
    {
      "cell_type": "code",
      "execution_count": null,
      "metadata": {
        "colab": {
          "base_uri": "https://localhost:8080/"
        },
        "id": "-I8ne6wKvc1T",
        "outputId": "88691ec4-f028-41c7-c1b9-dddbda4b4421"
      },
      "outputs": [
        {
          "output_type": "stream",
          "name": "stderr",
          "text": [
            "/usr/local/lib/python3.8/dist-packages/IPython/core/interactiveshell.py:3326: DtypeWarning: Columns (2) have mixed types.Specify dtype option on import or set low_memory=False.\n",
            "  exec(code_obj, self.user_global_ns, self.user_ns)\n"
          ]
        }
      ],
      "source": [
        "# Carga dos dados .csv\n",
        "anac_jan = pd.read_csv('https://raw.githubusercontent.com/GabrielCdev/ANAC_BigData_Analysis/main/Dataset/vra_01_2021.csv', sep=';')\n",
        "anac_feb = pd.read_csv('https://raw.githubusercontent.com/GabrielCdev/ANAC_BigData_Analysis/main/Dataset/vra_02_2021.csv', sep=';')\n",
        "anac_mar = pd.read_csv('https://raw.githubusercontent.com/GabrielCdev/ANAC_BigData_Analysis/main/Dataset/vra_03_2021.csv', sep=';')\n",
        "anac_apr = pd.read_csv('https://raw.githubusercontent.com/GabrielCdev/ANAC_BigData_Analysis/main/Dataset/vra_04_2021.csv', sep=';')\n",
        "anac_may = pd.read_csv('https://raw.githubusercontent.com/GabrielCdev/ANAC_BigData_Analysis/main/Dataset/vra_05_2021.csv', sep=';')\n",
        "anac_jun = pd.read_csv('https://raw.githubusercontent.com/GabrielCdev/ANAC_BigData_Analysis/main/Dataset/vra_06_2021.csv', sep=';')\n",
        "anac_jul = pd.read_csv('https://raw.githubusercontent.com/GabrielCdev/ANAC_BigData_Analysis/main/Dataset/vra_07_2021.csv', sep=';')\n",
        "anac_aug = pd.read_csv('https://raw.githubusercontent.com/GabrielCdev/ANAC_BigData_Analysis/main/Dataset/vra_08_2021.csv', sep=';')\n",
        "anac_sep = pd.read_csv('https://raw.githubusercontent.com/GabrielCdev/ANAC_BigData_Analysis/main/Dataset/vra_09_2021.csv', sep=';')\n",
        "anac_oct = pd.read_csv('https://raw.githubusercontent.com/GabrielCdev/ANAC_BigData_Analysis/main/Dataset/vra_10_2021.csv', sep=';')\n",
        "anac_nov = pd.read_csv('https://raw.githubusercontent.com/GabrielCdev/ANAC_BigData_Analysis/main/Dataset/vra_11_2021.csv', sep=';')\n",
        "anac_dec = pd.read_csv('https://raw.githubusercontent.com/GabrielCdev/ANAC_BigData_Analysis/main/Dataset/vra_12_2021.csv', sep=';')"
      ]
    },
    {
      "cell_type": "markdown",
      "source": [
        "##Análise primária"
      ],
      "metadata": {
        "id": "NbF2IopH6FkU"
      }
    },
    {
      "cell_type": "code",
      "execution_count": null,
      "metadata": {
        "colab": {
          "base_uri": "https://localhost:8080/",
          "height": 371
        },
        "id": "o_90knbxLSEn",
        "outputId": "c63a445f-fe68-4c49-92f8-5140728633f2"
      },
      "outputs": [
        {
          "output_type": "execute_result",
          "data": {
            "text/plain": [
              "  ICAO Empresa Aerea Numero Voo Codigo DI Codigo Tipo Linha  \\\n",
              "0                AAL        904         0                 X   \n",
              "1                AAL        904         0                 X   \n",
              "2                AAL        904         0                 X   \n",
              "3                AAL        904         0                 X   \n",
              "4                AAL        904         0                 X   \n",
              "\n",
              "  ICAO Aerodromo Origem ICAO Aerodromo Destino  Partida Prevista  \\\n",
              "0                  SBGL                   KMIA  01/01/2021 23:35   \n",
              "1                  SBGL                   KMIA  02/01/2021 23:35   \n",
              "2                  SBGL                   KMIA  03/01/2021 23:35   \n",
              "3                  SBGL                   KMIA  04/01/2021 23:45   \n",
              "4                  SBGL                   KMIA  05/01/2021 23:45   \n",
              "\n",
              "       Partida Real  Chegada Prevista      Chegada Real Situacao Voo  \n",
              "0  01/01/2021 23:29  02/01/2021 08:10  02/01/2021 07:56    REALIZADO  \n",
              "1  02/01/2021 23:34  03/01/2021 08:10  03/01/2021 08:14    REALIZADO  \n",
              "2  03/01/2021 23:27  04/01/2021 08:10  04/01/2021 07:57    REALIZADO  \n",
              "3  04/01/2021 23:38  05/01/2021 08:20  05/01/2021 07:51    REALIZADO  \n",
              "4  05/01/2021 23:34  06/01/2021 08:20  06/01/2021 08:12    REALIZADO  "
            ],
            "text/html": [
              "\n",
              "  <div id=\"df-1f624c5c-1089-458f-9263-cc4579930362\">\n",
              "    <div class=\"colab-df-container\">\n",
              "      <div>\n",
              "<style scoped>\n",
              "    .dataframe tbody tr th:only-of-type {\n",
              "        vertical-align: middle;\n",
              "    }\n",
              "\n",
              "    .dataframe tbody tr th {\n",
              "        vertical-align: top;\n",
              "    }\n",
              "\n",
              "    .dataframe thead th {\n",
              "        text-align: right;\n",
              "    }\n",
              "</style>\n",
              "<table border=\"1\" class=\"dataframe\">\n",
              "  <thead>\n",
              "    <tr style=\"text-align: right;\">\n",
              "      <th></th>\n",
              "      <th>ICAO Empresa Aerea</th>\n",
              "      <th>Numero Voo</th>\n",
              "      <th>Codigo DI</th>\n",
              "      <th>Codigo Tipo Linha</th>\n",
              "      <th>ICAO Aerodromo Origem</th>\n",
              "      <th>ICAO Aerodromo Destino</th>\n",
              "      <th>Partida Prevista</th>\n",
              "      <th>Partida Real</th>\n",
              "      <th>Chegada Prevista</th>\n",
              "      <th>Chegada Real</th>\n",
              "      <th>Situacao Voo</th>\n",
              "    </tr>\n",
              "  </thead>\n",
              "  <tbody>\n",
              "    <tr>\n",
              "      <th>0</th>\n",
              "      <td>AAL</td>\n",
              "      <td>904</td>\n",
              "      <td>0</td>\n",
              "      <td>X</td>\n",
              "      <td>SBGL</td>\n",
              "      <td>KMIA</td>\n",
              "      <td>01/01/2021 23:35</td>\n",
              "      <td>01/01/2021 23:29</td>\n",
              "      <td>02/01/2021 08:10</td>\n",
              "      <td>02/01/2021 07:56</td>\n",
              "      <td>REALIZADO</td>\n",
              "    </tr>\n",
              "    <tr>\n",
              "      <th>1</th>\n",
              "      <td>AAL</td>\n",
              "      <td>904</td>\n",
              "      <td>0</td>\n",
              "      <td>X</td>\n",
              "      <td>SBGL</td>\n",
              "      <td>KMIA</td>\n",
              "      <td>02/01/2021 23:35</td>\n",
              "      <td>02/01/2021 23:34</td>\n",
              "      <td>03/01/2021 08:10</td>\n",
              "      <td>03/01/2021 08:14</td>\n",
              "      <td>REALIZADO</td>\n",
              "    </tr>\n",
              "    <tr>\n",
              "      <th>2</th>\n",
              "      <td>AAL</td>\n",
              "      <td>904</td>\n",
              "      <td>0</td>\n",
              "      <td>X</td>\n",
              "      <td>SBGL</td>\n",
              "      <td>KMIA</td>\n",
              "      <td>03/01/2021 23:35</td>\n",
              "      <td>03/01/2021 23:27</td>\n",
              "      <td>04/01/2021 08:10</td>\n",
              "      <td>04/01/2021 07:57</td>\n",
              "      <td>REALIZADO</td>\n",
              "    </tr>\n",
              "    <tr>\n",
              "      <th>3</th>\n",
              "      <td>AAL</td>\n",
              "      <td>904</td>\n",
              "      <td>0</td>\n",
              "      <td>X</td>\n",
              "      <td>SBGL</td>\n",
              "      <td>KMIA</td>\n",
              "      <td>04/01/2021 23:45</td>\n",
              "      <td>04/01/2021 23:38</td>\n",
              "      <td>05/01/2021 08:20</td>\n",
              "      <td>05/01/2021 07:51</td>\n",
              "      <td>REALIZADO</td>\n",
              "    </tr>\n",
              "    <tr>\n",
              "      <th>4</th>\n",
              "      <td>AAL</td>\n",
              "      <td>904</td>\n",
              "      <td>0</td>\n",
              "      <td>X</td>\n",
              "      <td>SBGL</td>\n",
              "      <td>KMIA</td>\n",
              "      <td>05/01/2021 23:45</td>\n",
              "      <td>05/01/2021 23:34</td>\n",
              "      <td>06/01/2021 08:20</td>\n",
              "      <td>06/01/2021 08:12</td>\n",
              "      <td>REALIZADO</td>\n",
              "    </tr>\n",
              "  </tbody>\n",
              "</table>\n",
              "</div>\n",
              "      <button class=\"colab-df-convert\" onclick=\"convertToInteractive('df-1f624c5c-1089-458f-9263-cc4579930362')\"\n",
              "              title=\"Convert this dataframe to an interactive table.\"\n",
              "              style=\"display:none;\">\n",
              "        \n",
              "  <svg xmlns=\"http://www.w3.org/2000/svg\" height=\"24px\"viewBox=\"0 0 24 24\"\n",
              "       width=\"24px\">\n",
              "    <path d=\"M0 0h24v24H0V0z\" fill=\"none\"/>\n",
              "    <path d=\"M18.56 5.44l.94 2.06.94-2.06 2.06-.94-2.06-.94-.94-2.06-.94 2.06-2.06.94zm-11 1L8.5 8.5l.94-2.06 2.06-.94-2.06-.94L8.5 2.5l-.94 2.06-2.06.94zm10 10l.94 2.06.94-2.06 2.06-.94-2.06-.94-.94-2.06-.94 2.06-2.06.94z\"/><path d=\"M17.41 7.96l-1.37-1.37c-.4-.4-.92-.59-1.43-.59-.52 0-1.04.2-1.43.59L10.3 9.45l-7.72 7.72c-.78.78-.78 2.05 0 2.83L4 21.41c.39.39.9.59 1.41.59.51 0 1.02-.2 1.41-.59l7.78-7.78 2.81-2.81c.8-.78.8-2.07 0-2.86zM5.41 20L4 18.59l7.72-7.72 1.47 1.35L5.41 20z\"/>\n",
              "  </svg>\n",
              "      </button>\n",
              "      \n",
              "  <style>\n",
              "    .colab-df-container {\n",
              "      display:flex;\n",
              "      flex-wrap:wrap;\n",
              "      gap: 12px;\n",
              "    }\n",
              "\n",
              "    .colab-df-convert {\n",
              "      background-color: #E8F0FE;\n",
              "      border: none;\n",
              "      border-radius: 50%;\n",
              "      cursor: pointer;\n",
              "      display: none;\n",
              "      fill: #1967D2;\n",
              "      height: 32px;\n",
              "      padding: 0 0 0 0;\n",
              "      width: 32px;\n",
              "    }\n",
              "\n",
              "    .colab-df-convert:hover {\n",
              "      background-color: #E2EBFA;\n",
              "      box-shadow: 0px 1px 2px rgba(60, 64, 67, 0.3), 0px 1px 3px 1px rgba(60, 64, 67, 0.15);\n",
              "      fill: #174EA6;\n",
              "    }\n",
              "\n",
              "    [theme=dark] .colab-df-convert {\n",
              "      background-color: #3B4455;\n",
              "      fill: #D2E3FC;\n",
              "    }\n",
              "\n",
              "    [theme=dark] .colab-df-convert:hover {\n",
              "      background-color: #434B5C;\n",
              "      box-shadow: 0px 1px 3px 1px rgba(0, 0, 0, 0.15);\n",
              "      filter: drop-shadow(0px 1px 2px rgba(0, 0, 0, 0.3));\n",
              "      fill: #FFFFFF;\n",
              "    }\n",
              "  </style>\n",
              "\n",
              "      <script>\n",
              "        const buttonEl =\n",
              "          document.querySelector('#df-1f624c5c-1089-458f-9263-cc4579930362 button.colab-df-convert');\n",
              "        buttonEl.style.display =\n",
              "          google.colab.kernel.accessAllowed ? 'block' : 'none';\n",
              "\n",
              "        async function convertToInteractive(key) {\n",
              "          const element = document.querySelector('#df-1f624c5c-1089-458f-9263-cc4579930362');\n",
              "          const dataTable =\n",
              "            await google.colab.kernel.invokeFunction('convertToInteractive',\n",
              "                                                     [key], {});\n",
              "          if (!dataTable) return;\n",
              "\n",
              "          const docLinkHtml = 'Like what you see? Visit the ' +\n",
              "            '<a target=\"_blank\" href=https://colab.research.google.com/notebooks/data_table.ipynb>data table notebook</a>'\n",
              "            + ' to learn more about interactive tables.';\n",
              "          element.innerHTML = '';\n",
              "          dataTable['output_type'] = 'display_data';\n",
              "          await google.colab.output.renderOutput(dataTable, element);\n",
              "          const docLink = document.createElement('div');\n",
              "          docLink.innerHTML = docLinkHtml;\n",
              "          element.appendChild(docLink);\n",
              "        }\n",
              "      </script>\n",
              "    </div>\n",
              "  </div>\n",
              "  "
            ]
          },
          "metadata": {},
          "execution_count": 4
        }
      ],
      "source": [
        "#Verificando início das datas\n",
        "anac_jan.head(5)"
      ]
    },
    {
      "cell_type": "code",
      "execution_count": null,
      "metadata": {
        "colab": {
          "base_uri": "https://localhost:8080/",
          "height": 371
        },
        "id": "yvThGcE3LViW",
        "outputId": "055694cb-95b1-4154-d805-5bcd28bd4468"
      },
      "outputs": [
        {
          "output_type": "execute_result",
          "data": {
            "text/plain": [
              "      ICAO Empresa Aerea Numero Voo Codigo DI Codigo Tipo Linha  \\\n",
              "71774                UPS        445         0                 X   \n",
              "71775                UPS        445         0                 X   \n",
              "71776                VDA       5596         9                 X   \n",
              "71777                VDA       5596         9                 X   \n",
              "71778                VDA       5597         9                 X   \n",
              "\n",
              "      ICAO Aerodromo Origem ICAO Aerodromo Destino  Partida Prevista  \\\n",
              "71774                  SBKP                   KMIA  12/12/2021 11:55   \n",
              "71775                  SBKP                   KMIA  19/12/2021 11:55   \n",
              "71776                  KIAH                   MPTO  08/12/2021 16:00   \n",
              "71777                  MPTO                   SBCB  09/12/2021 12:00   \n",
              "71778                  SBCB                   GOBD  10/12/2021 09:00   \n",
              "\n",
              "           Partida Real  Chegada Prevista      Chegada Real Situacao Voo  \n",
              "71774  12/12/2021 20:05  12/12/2021 19:50  13/12/2021 04:18    REALIZADO  \n",
              "71775  20/12/2021 08:47  19/12/2021 19:50  20/12/2021 16:38    REALIZADO  \n",
              "71776  08/12/2021 16:10  08/12/2021 21:30  08/12/2021 21:40    REALIZADO  \n",
              "71777  09/12/2021 08:36  09/12/2021 20:00  09/12/2021 15:48    REALIZADO  \n",
              "71778  10/12/2021 12:57  10/12/2021 16:00  10/12/2021 19:28    REALIZADO  "
            ],
            "text/html": [
              "\n",
              "  <div id=\"df-c6923c0e-38e4-471d-a293-d759ad505d8b\">\n",
              "    <div class=\"colab-df-container\">\n",
              "      <div>\n",
              "<style scoped>\n",
              "    .dataframe tbody tr th:only-of-type {\n",
              "        vertical-align: middle;\n",
              "    }\n",
              "\n",
              "    .dataframe tbody tr th {\n",
              "        vertical-align: top;\n",
              "    }\n",
              "\n",
              "    .dataframe thead th {\n",
              "        text-align: right;\n",
              "    }\n",
              "</style>\n",
              "<table border=\"1\" class=\"dataframe\">\n",
              "  <thead>\n",
              "    <tr style=\"text-align: right;\">\n",
              "      <th></th>\n",
              "      <th>ICAO Empresa Aerea</th>\n",
              "      <th>Numero Voo</th>\n",
              "      <th>Codigo DI</th>\n",
              "      <th>Codigo Tipo Linha</th>\n",
              "      <th>ICAO Aerodromo Origem</th>\n",
              "      <th>ICAO Aerodromo Destino</th>\n",
              "      <th>Partida Prevista</th>\n",
              "      <th>Partida Real</th>\n",
              "      <th>Chegada Prevista</th>\n",
              "      <th>Chegada Real</th>\n",
              "      <th>Situacao Voo</th>\n",
              "    </tr>\n",
              "  </thead>\n",
              "  <tbody>\n",
              "    <tr>\n",
              "      <th>71774</th>\n",
              "      <td>UPS</td>\n",
              "      <td>445</td>\n",
              "      <td>0</td>\n",
              "      <td>X</td>\n",
              "      <td>SBKP</td>\n",
              "      <td>KMIA</td>\n",
              "      <td>12/12/2021 11:55</td>\n",
              "      <td>12/12/2021 20:05</td>\n",
              "      <td>12/12/2021 19:50</td>\n",
              "      <td>13/12/2021 04:18</td>\n",
              "      <td>REALIZADO</td>\n",
              "    </tr>\n",
              "    <tr>\n",
              "      <th>71775</th>\n",
              "      <td>UPS</td>\n",
              "      <td>445</td>\n",
              "      <td>0</td>\n",
              "      <td>X</td>\n",
              "      <td>SBKP</td>\n",
              "      <td>KMIA</td>\n",
              "      <td>19/12/2021 11:55</td>\n",
              "      <td>20/12/2021 08:47</td>\n",
              "      <td>19/12/2021 19:50</td>\n",
              "      <td>20/12/2021 16:38</td>\n",
              "      <td>REALIZADO</td>\n",
              "    </tr>\n",
              "    <tr>\n",
              "      <th>71776</th>\n",
              "      <td>VDA</td>\n",
              "      <td>5596</td>\n",
              "      <td>9</td>\n",
              "      <td>X</td>\n",
              "      <td>KIAH</td>\n",
              "      <td>MPTO</td>\n",
              "      <td>08/12/2021 16:00</td>\n",
              "      <td>08/12/2021 16:10</td>\n",
              "      <td>08/12/2021 21:30</td>\n",
              "      <td>08/12/2021 21:40</td>\n",
              "      <td>REALIZADO</td>\n",
              "    </tr>\n",
              "    <tr>\n",
              "      <th>71777</th>\n",
              "      <td>VDA</td>\n",
              "      <td>5596</td>\n",
              "      <td>9</td>\n",
              "      <td>X</td>\n",
              "      <td>MPTO</td>\n",
              "      <td>SBCB</td>\n",
              "      <td>09/12/2021 12:00</td>\n",
              "      <td>09/12/2021 08:36</td>\n",
              "      <td>09/12/2021 20:00</td>\n",
              "      <td>09/12/2021 15:48</td>\n",
              "      <td>REALIZADO</td>\n",
              "    </tr>\n",
              "    <tr>\n",
              "      <th>71778</th>\n",
              "      <td>VDA</td>\n",
              "      <td>5597</td>\n",
              "      <td>9</td>\n",
              "      <td>X</td>\n",
              "      <td>SBCB</td>\n",
              "      <td>GOBD</td>\n",
              "      <td>10/12/2021 09:00</td>\n",
              "      <td>10/12/2021 12:57</td>\n",
              "      <td>10/12/2021 16:00</td>\n",
              "      <td>10/12/2021 19:28</td>\n",
              "      <td>REALIZADO</td>\n",
              "    </tr>\n",
              "  </tbody>\n",
              "</table>\n",
              "</div>\n",
              "      <button class=\"colab-df-convert\" onclick=\"convertToInteractive('df-c6923c0e-38e4-471d-a293-d759ad505d8b')\"\n",
              "              title=\"Convert this dataframe to an interactive table.\"\n",
              "              style=\"display:none;\">\n",
              "        \n",
              "  <svg xmlns=\"http://www.w3.org/2000/svg\" height=\"24px\"viewBox=\"0 0 24 24\"\n",
              "       width=\"24px\">\n",
              "    <path d=\"M0 0h24v24H0V0z\" fill=\"none\"/>\n",
              "    <path d=\"M18.56 5.44l.94 2.06.94-2.06 2.06-.94-2.06-.94-.94-2.06-.94 2.06-2.06.94zm-11 1L8.5 8.5l.94-2.06 2.06-.94-2.06-.94L8.5 2.5l-.94 2.06-2.06.94zm10 10l.94 2.06.94-2.06 2.06-.94-2.06-.94-.94-2.06-.94 2.06-2.06.94z\"/><path d=\"M17.41 7.96l-1.37-1.37c-.4-.4-.92-.59-1.43-.59-.52 0-1.04.2-1.43.59L10.3 9.45l-7.72 7.72c-.78.78-.78 2.05 0 2.83L4 21.41c.39.39.9.59 1.41.59.51 0 1.02-.2 1.41-.59l7.78-7.78 2.81-2.81c.8-.78.8-2.07 0-2.86zM5.41 20L4 18.59l7.72-7.72 1.47 1.35L5.41 20z\"/>\n",
              "  </svg>\n",
              "      </button>\n",
              "      \n",
              "  <style>\n",
              "    .colab-df-container {\n",
              "      display:flex;\n",
              "      flex-wrap:wrap;\n",
              "      gap: 12px;\n",
              "    }\n",
              "\n",
              "    .colab-df-convert {\n",
              "      background-color: #E8F0FE;\n",
              "      border: none;\n",
              "      border-radius: 50%;\n",
              "      cursor: pointer;\n",
              "      display: none;\n",
              "      fill: #1967D2;\n",
              "      height: 32px;\n",
              "      padding: 0 0 0 0;\n",
              "      width: 32px;\n",
              "    }\n",
              "\n",
              "    .colab-df-convert:hover {\n",
              "      background-color: #E2EBFA;\n",
              "      box-shadow: 0px 1px 2px rgba(60, 64, 67, 0.3), 0px 1px 3px 1px rgba(60, 64, 67, 0.15);\n",
              "      fill: #174EA6;\n",
              "    }\n",
              "\n",
              "    [theme=dark] .colab-df-convert {\n",
              "      background-color: #3B4455;\n",
              "      fill: #D2E3FC;\n",
              "    }\n",
              "\n",
              "    [theme=dark] .colab-df-convert:hover {\n",
              "      background-color: #434B5C;\n",
              "      box-shadow: 0px 1px 3px 1px rgba(0, 0, 0, 0.15);\n",
              "      filter: drop-shadow(0px 1px 2px rgba(0, 0, 0, 0.3));\n",
              "      fill: #FFFFFF;\n",
              "    }\n",
              "  </style>\n",
              "\n",
              "      <script>\n",
              "        const buttonEl =\n",
              "          document.querySelector('#df-c6923c0e-38e4-471d-a293-d759ad505d8b button.colab-df-convert');\n",
              "        buttonEl.style.display =\n",
              "          google.colab.kernel.accessAllowed ? 'block' : 'none';\n",
              "\n",
              "        async function convertToInteractive(key) {\n",
              "          const element = document.querySelector('#df-c6923c0e-38e4-471d-a293-d759ad505d8b');\n",
              "          const dataTable =\n",
              "            await google.colab.kernel.invokeFunction('convertToInteractive',\n",
              "                                                     [key], {});\n",
              "          if (!dataTable) return;\n",
              "\n",
              "          const docLinkHtml = 'Like what you see? Visit the ' +\n",
              "            '<a target=\"_blank\" href=https://colab.research.google.com/notebooks/data_table.ipynb>data table notebook</a>'\n",
              "            + ' to learn more about interactive tables.';\n",
              "          element.innerHTML = '';\n",
              "          dataTable['output_type'] = 'display_data';\n",
              "          await google.colab.output.renderOutput(dataTable, element);\n",
              "          const docLink = document.createElement('div');\n",
              "          docLink.innerHTML = docLinkHtml;\n",
              "          element.appendChild(docLink);\n",
              "        }\n",
              "      </script>\n",
              "    </div>\n",
              "  </div>\n",
              "  "
            ]
          },
          "metadata": {},
          "execution_count": 5
        }
      ],
      "source": [
        "#Verificando final das datas\n",
        "anac_dec.tail(5)"
      ]
    },
    {
      "cell_type": "code",
      "execution_count": null,
      "metadata": {
        "colab": {
          "base_uri": "https://localhost:8080/",
          "height": 676
        },
        "id": "VK1LJW5i-5Uy",
        "outputId": "e888901b-e629-4d86-9a98-cb5432e0dc48"
      },
      "outputs": [
        {
          "output_type": "execute_result",
          "data": {
            "text/plain": [
              "       ICAO Empresa Aerea Numero Voo Codigo DI Codigo Tipo Linha  \\\n",
              "0                     AAL        904         0                 X   \n",
              "1                     AAL        904         0                 X   \n",
              "2                     AAL        904         0                 X   \n",
              "3                     AAL        904         0                 X   \n",
              "4                     AAL        904         0                 X   \n",
              "...                   ...        ...       ...               ...   \n",
              "609796                UPS        445         0                 X   \n",
              "609797                UPS        445         0                 X   \n",
              "609798                VDA       5596         9                 X   \n",
              "609799                VDA       5596         9                 X   \n",
              "609800                VDA       5597         9                 X   \n",
              "\n",
              "       ICAO Aerodromo Origem ICAO Aerodromo Destino  Partida Prevista  \\\n",
              "0                       SBGL                   KMIA  01/01/2021 23:35   \n",
              "1                       SBGL                   KMIA  02/01/2021 23:35   \n",
              "2                       SBGL                   KMIA  03/01/2021 23:35   \n",
              "3                       SBGL                   KMIA  04/01/2021 23:45   \n",
              "4                       SBGL                   KMIA  05/01/2021 23:45   \n",
              "...                      ...                    ...               ...   \n",
              "609796                  SBKP                   KMIA  12/12/2021 11:55   \n",
              "609797                  SBKP                   KMIA  19/12/2021 11:55   \n",
              "609798                  KIAH                   MPTO  08/12/2021 16:00   \n",
              "609799                  MPTO                   SBCB  09/12/2021 12:00   \n",
              "609800                  SBCB                   GOBD  10/12/2021 09:00   \n",
              "\n",
              "            Partida Real  Chegada Prevista      Chegada Real Situacao Voo  \n",
              "0       01/01/2021 23:29  02/01/2021 08:10  02/01/2021 07:56    REALIZADO  \n",
              "1       02/01/2021 23:34  03/01/2021 08:10  03/01/2021 08:14    REALIZADO  \n",
              "2       03/01/2021 23:27  04/01/2021 08:10  04/01/2021 07:57    REALIZADO  \n",
              "3       04/01/2021 23:38  05/01/2021 08:20  05/01/2021 07:51    REALIZADO  \n",
              "4       05/01/2021 23:34  06/01/2021 08:20  06/01/2021 08:12    REALIZADO  \n",
              "...                  ...               ...               ...          ...  \n",
              "609796  12/12/2021 20:05  12/12/2021 19:50  13/12/2021 04:18    REALIZADO  \n",
              "609797  20/12/2021 08:47  19/12/2021 19:50  20/12/2021 16:38    REALIZADO  \n",
              "609798  08/12/2021 16:10  08/12/2021 21:30  08/12/2021 21:40    REALIZADO  \n",
              "609799  09/12/2021 08:36  09/12/2021 20:00  09/12/2021 15:48    REALIZADO  \n",
              "609800  10/12/2021 12:57  10/12/2021 16:00  10/12/2021 19:28    REALIZADO  \n",
              "\n",
              "[609801 rows x 11 columns]"
            ],
            "text/html": [
              "\n",
              "  <div id=\"df-61bc1c0f-f61a-4aa4-8fa8-0b990cbe32f4\">\n",
              "    <div class=\"colab-df-container\">\n",
              "      <div>\n",
              "<style scoped>\n",
              "    .dataframe tbody tr th:only-of-type {\n",
              "        vertical-align: middle;\n",
              "    }\n",
              "\n",
              "    .dataframe tbody tr th {\n",
              "        vertical-align: top;\n",
              "    }\n",
              "\n",
              "    .dataframe thead th {\n",
              "        text-align: right;\n",
              "    }\n",
              "</style>\n",
              "<table border=\"1\" class=\"dataframe\">\n",
              "  <thead>\n",
              "    <tr style=\"text-align: right;\">\n",
              "      <th></th>\n",
              "      <th>ICAO Empresa Aerea</th>\n",
              "      <th>Numero Voo</th>\n",
              "      <th>Codigo DI</th>\n",
              "      <th>Codigo Tipo Linha</th>\n",
              "      <th>ICAO Aerodromo Origem</th>\n",
              "      <th>ICAO Aerodromo Destino</th>\n",
              "      <th>Partida Prevista</th>\n",
              "      <th>Partida Real</th>\n",
              "      <th>Chegada Prevista</th>\n",
              "      <th>Chegada Real</th>\n",
              "      <th>Situacao Voo</th>\n",
              "    </tr>\n",
              "  </thead>\n",
              "  <tbody>\n",
              "    <tr>\n",
              "      <th>0</th>\n",
              "      <td>AAL</td>\n",
              "      <td>904</td>\n",
              "      <td>0</td>\n",
              "      <td>X</td>\n",
              "      <td>SBGL</td>\n",
              "      <td>KMIA</td>\n",
              "      <td>01/01/2021 23:35</td>\n",
              "      <td>01/01/2021 23:29</td>\n",
              "      <td>02/01/2021 08:10</td>\n",
              "      <td>02/01/2021 07:56</td>\n",
              "      <td>REALIZADO</td>\n",
              "    </tr>\n",
              "    <tr>\n",
              "      <th>1</th>\n",
              "      <td>AAL</td>\n",
              "      <td>904</td>\n",
              "      <td>0</td>\n",
              "      <td>X</td>\n",
              "      <td>SBGL</td>\n",
              "      <td>KMIA</td>\n",
              "      <td>02/01/2021 23:35</td>\n",
              "      <td>02/01/2021 23:34</td>\n",
              "      <td>03/01/2021 08:10</td>\n",
              "      <td>03/01/2021 08:14</td>\n",
              "      <td>REALIZADO</td>\n",
              "    </tr>\n",
              "    <tr>\n",
              "      <th>2</th>\n",
              "      <td>AAL</td>\n",
              "      <td>904</td>\n",
              "      <td>0</td>\n",
              "      <td>X</td>\n",
              "      <td>SBGL</td>\n",
              "      <td>KMIA</td>\n",
              "      <td>03/01/2021 23:35</td>\n",
              "      <td>03/01/2021 23:27</td>\n",
              "      <td>04/01/2021 08:10</td>\n",
              "      <td>04/01/2021 07:57</td>\n",
              "      <td>REALIZADO</td>\n",
              "    </tr>\n",
              "    <tr>\n",
              "      <th>3</th>\n",
              "      <td>AAL</td>\n",
              "      <td>904</td>\n",
              "      <td>0</td>\n",
              "      <td>X</td>\n",
              "      <td>SBGL</td>\n",
              "      <td>KMIA</td>\n",
              "      <td>04/01/2021 23:45</td>\n",
              "      <td>04/01/2021 23:38</td>\n",
              "      <td>05/01/2021 08:20</td>\n",
              "      <td>05/01/2021 07:51</td>\n",
              "      <td>REALIZADO</td>\n",
              "    </tr>\n",
              "    <tr>\n",
              "      <th>4</th>\n",
              "      <td>AAL</td>\n",
              "      <td>904</td>\n",
              "      <td>0</td>\n",
              "      <td>X</td>\n",
              "      <td>SBGL</td>\n",
              "      <td>KMIA</td>\n",
              "      <td>05/01/2021 23:45</td>\n",
              "      <td>05/01/2021 23:34</td>\n",
              "      <td>06/01/2021 08:20</td>\n",
              "      <td>06/01/2021 08:12</td>\n",
              "      <td>REALIZADO</td>\n",
              "    </tr>\n",
              "    <tr>\n",
              "      <th>...</th>\n",
              "      <td>...</td>\n",
              "      <td>...</td>\n",
              "      <td>...</td>\n",
              "      <td>...</td>\n",
              "      <td>...</td>\n",
              "      <td>...</td>\n",
              "      <td>...</td>\n",
              "      <td>...</td>\n",
              "      <td>...</td>\n",
              "      <td>...</td>\n",
              "      <td>...</td>\n",
              "    </tr>\n",
              "    <tr>\n",
              "      <th>609796</th>\n",
              "      <td>UPS</td>\n",
              "      <td>445</td>\n",
              "      <td>0</td>\n",
              "      <td>X</td>\n",
              "      <td>SBKP</td>\n",
              "      <td>KMIA</td>\n",
              "      <td>12/12/2021 11:55</td>\n",
              "      <td>12/12/2021 20:05</td>\n",
              "      <td>12/12/2021 19:50</td>\n",
              "      <td>13/12/2021 04:18</td>\n",
              "      <td>REALIZADO</td>\n",
              "    </tr>\n",
              "    <tr>\n",
              "      <th>609797</th>\n",
              "      <td>UPS</td>\n",
              "      <td>445</td>\n",
              "      <td>0</td>\n",
              "      <td>X</td>\n",
              "      <td>SBKP</td>\n",
              "      <td>KMIA</td>\n",
              "      <td>19/12/2021 11:55</td>\n",
              "      <td>20/12/2021 08:47</td>\n",
              "      <td>19/12/2021 19:50</td>\n",
              "      <td>20/12/2021 16:38</td>\n",
              "      <td>REALIZADO</td>\n",
              "    </tr>\n",
              "    <tr>\n",
              "      <th>609798</th>\n",
              "      <td>VDA</td>\n",
              "      <td>5596</td>\n",
              "      <td>9</td>\n",
              "      <td>X</td>\n",
              "      <td>KIAH</td>\n",
              "      <td>MPTO</td>\n",
              "      <td>08/12/2021 16:00</td>\n",
              "      <td>08/12/2021 16:10</td>\n",
              "      <td>08/12/2021 21:30</td>\n",
              "      <td>08/12/2021 21:40</td>\n",
              "      <td>REALIZADO</td>\n",
              "    </tr>\n",
              "    <tr>\n",
              "      <th>609799</th>\n",
              "      <td>VDA</td>\n",
              "      <td>5596</td>\n",
              "      <td>9</td>\n",
              "      <td>X</td>\n",
              "      <td>MPTO</td>\n",
              "      <td>SBCB</td>\n",
              "      <td>09/12/2021 12:00</td>\n",
              "      <td>09/12/2021 08:36</td>\n",
              "      <td>09/12/2021 20:00</td>\n",
              "      <td>09/12/2021 15:48</td>\n",
              "      <td>REALIZADO</td>\n",
              "    </tr>\n",
              "    <tr>\n",
              "      <th>609800</th>\n",
              "      <td>VDA</td>\n",
              "      <td>5597</td>\n",
              "      <td>9</td>\n",
              "      <td>X</td>\n",
              "      <td>SBCB</td>\n",
              "      <td>GOBD</td>\n",
              "      <td>10/12/2021 09:00</td>\n",
              "      <td>10/12/2021 12:57</td>\n",
              "      <td>10/12/2021 16:00</td>\n",
              "      <td>10/12/2021 19:28</td>\n",
              "      <td>REALIZADO</td>\n",
              "    </tr>\n",
              "  </tbody>\n",
              "</table>\n",
              "<p>609801 rows × 11 columns</p>\n",
              "</div>\n",
              "      <button class=\"colab-df-convert\" onclick=\"convertToInteractive('df-61bc1c0f-f61a-4aa4-8fa8-0b990cbe32f4')\"\n",
              "              title=\"Convert this dataframe to an interactive table.\"\n",
              "              style=\"display:none;\">\n",
              "        \n",
              "  <svg xmlns=\"http://www.w3.org/2000/svg\" height=\"24px\"viewBox=\"0 0 24 24\"\n",
              "       width=\"24px\">\n",
              "    <path d=\"M0 0h24v24H0V0z\" fill=\"none\"/>\n",
              "    <path d=\"M18.56 5.44l.94 2.06.94-2.06 2.06-.94-2.06-.94-.94-2.06-.94 2.06-2.06.94zm-11 1L8.5 8.5l.94-2.06 2.06-.94-2.06-.94L8.5 2.5l-.94 2.06-2.06.94zm10 10l.94 2.06.94-2.06 2.06-.94-2.06-.94-.94-2.06-.94 2.06-2.06.94z\"/><path d=\"M17.41 7.96l-1.37-1.37c-.4-.4-.92-.59-1.43-.59-.52 0-1.04.2-1.43.59L10.3 9.45l-7.72 7.72c-.78.78-.78 2.05 0 2.83L4 21.41c.39.39.9.59 1.41.59.51 0 1.02-.2 1.41-.59l7.78-7.78 2.81-2.81c.8-.78.8-2.07 0-2.86zM5.41 20L4 18.59l7.72-7.72 1.47 1.35L5.41 20z\"/>\n",
              "  </svg>\n",
              "      </button>\n",
              "      \n",
              "  <style>\n",
              "    .colab-df-container {\n",
              "      display:flex;\n",
              "      flex-wrap:wrap;\n",
              "      gap: 12px;\n",
              "    }\n",
              "\n",
              "    .colab-df-convert {\n",
              "      background-color: #E8F0FE;\n",
              "      border: none;\n",
              "      border-radius: 50%;\n",
              "      cursor: pointer;\n",
              "      display: none;\n",
              "      fill: #1967D2;\n",
              "      height: 32px;\n",
              "      padding: 0 0 0 0;\n",
              "      width: 32px;\n",
              "    }\n",
              "\n",
              "    .colab-df-convert:hover {\n",
              "      background-color: #E2EBFA;\n",
              "      box-shadow: 0px 1px 2px rgba(60, 64, 67, 0.3), 0px 1px 3px 1px rgba(60, 64, 67, 0.15);\n",
              "      fill: #174EA6;\n",
              "    }\n",
              "\n",
              "    [theme=dark] .colab-df-convert {\n",
              "      background-color: #3B4455;\n",
              "      fill: #D2E3FC;\n",
              "    }\n",
              "\n",
              "    [theme=dark] .colab-df-convert:hover {\n",
              "      background-color: #434B5C;\n",
              "      box-shadow: 0px 1px 3px 1px rgba(0, 0, 0, 0.15);\n",
              "      filter: drop-shadow(0px 1px 2px rgba(0, 0, 0, 0.3));\n",
              "      fill: #FFFFFF;\n",
              "    }\n",
              "  </style>\n",
              "\n",
              "      <script>\n",
              "        const buttonEl =\n",
              "          document.querySelector('#df-61bc1c0f-f61a-4aa4-8fa8-0b990cbe32f4 button.colab-df-convert');\n",
              "        buttonEl.style.display =\n",
              "          google.colab.kernel.accessAllowed ? 'block' : 'none';\n",
              "\n",
              "        async function convertToInteractive(key) {\n",
              "          const element = document.querySelector('#df-61bc1c0f-f61a-4aa4-8fa8-0b990cbe32f4');\n",
              "          const dataTable =\n",
              "            await google.colab.kernel.invokeFunction('convertToInteractive',\n",
              "                                                     [key], {});\n",
              "          if (!dataTable) return;\n",
              "\n",
              "          const docLinkHtml = 'Like what you see? Visit the ' +\n",
              "            '<a target=\"_blank\" href=https://colab.research.google.com/notebooks/data_table.ipynb>data table notebook</a>'\n",
              "            + ' to learn more about interactive tables.';\n",
              "          element.innerHTML = '';\n",
              "          dataTable['output_type'] = 'display_data';\n",
              "          await google.colab.output.renderOutput(dataTable, element);\n",
              "          const docLink = document.createElement('div');\n",
              "          docLink.innerHTML = docLinkHtml;\n",
              "          element.appendChild(docLink);\n",
              "        }\n",
              "      </script>\n",
              "    </div>\n",
              "  </div>\n",
              "  "
            ]
          },
          "metadata": {},
          "execution_count": 6
        }
      ],
      "source": [
        "# União de todos os arquivos em um só\n",
        "anac_annual_df = anac_jan.append([anac_feb, anac_mar, anac_apr, anac_may, anac_jun, anac_jul, anac_aug, anac_sep, anac_oct, anac_nov, anac_dec], ignore_index=True)\n",
        "anac_annual_df"
      ]
    },
    {
      "cell_type": "markdown",
      "metadata": {
        "id": "TXwlfdo8WC4k"
      },
      "source": [
        "##Informações Gerais"
      ]
    },
    {
      "cell_type": "code",
      "execution_count": null,
      "metadata": {
        "colab": {
          "base_uri": "https://localhost:8080/"
        },
        "id": "64I7-RBrLcWt",
        "outputId": "66d6014f-f337-499a-fc47-8f6eaaea3ce7"
      },
      "outputs": [
        {
          "output_type": "stream",
          "name": "stdout",
          "text": [
            "<class 'pandas.core.frame.DataFrame'>\n",
            "RangeIndex: 609801 entries, 0 to 609800\n",
            "Data columns (total 11 columns):\n",
            " #   Column                  Non-Null Count   Dtype \n",
            "---  ------                  --------------   ----- \n",
            " 0   ICAO Empresa Aerea      609801 non-null  object\n",
            " 1   Numero Voo              609801 non-null  object\n",
            " 2   Codigo DI               609801 non-null  object\n",
            " 3   Codigo Tipo Linha       607651 non-null  object\n",
            " 4   ICAO Aerodromo Origem   609801 non-null  object\n",
            " 5   ICAO Aerodromo Destino  609801 non-null  object\n",
            " 6   Partida Prevista        608708 non-null  object\n",
            " 7   Partida Real            579866 non-null  object\n",
            " 8   Chegada Prevista        608708 non-null  object\n",
            " 9   Chegada Real            579866 non-null  object\n",
            " 10  Situacao Voo            609801 non-null  object\n",
            "dtypes: object(11)\n",
            "memory usage: 51.2+ MB\n"
          ]
        }
      ],
      "source": [
        "anac_annual_df.info()"
      ]
    },
    {
      "cell_type": "markdown",
      "metadata": {
        "id": "breVq5C4WU3Y"
      },
      "source": [
        "A respeito do banco de dados até aqui podemos concluir:\n",
        "\n",
        "1.   O Dataset possui 11 atributos e 609801 linhas em sua maioria;\n",
        "2.   Não existem dados nulos, mas não quer dizer que não existam dados ausentes;\n",
        "3.   Todos os atributos são do tipo objeto, sendo necessário posterior avaliação e transformação de cada um."
      ]
    },
    {
      "cell_type": "markdown",
      "metadata": {
        "id": "at4uU7cpPNrV"
      },
      "source": [
        "# Filtragem e Padronização de Dados"
      ]
    },
    {
      "cell_type": "markdown",
      "metadata": {
        "id": "cFimEmV0b8iN"
      },
      "source": [
        "##Conversão do tipo de dados do dataset"
      ]
    },
    {
      "cell_type": "code",
      "execution_count": null,
      "metadata": {
        "id": "iYs0o1-pb-PQ"
      },
      "outputs": [],
      "source": [
        "anac_annual_df['ICAO Empresa Aerea'] = anac_annual_df['ICAO Empresa Aerea'].astype('category')\n",
        "anac_annual_df['Numero Voo'] = anac_annual_df['Numero Voo'].astype('category')\n",
        "anac_annual_df['Codigo DI'] = anac_annual_df['Codigo DI'].astype('category')\n",
        "anac_annual_df['Codigo Tipo Linha'] = anac_annual_df['Codigo Tipo Linha'].astype('category')\n",
        "anac_annual_df['ICAO Aerodromo Origem'] = anac_annual_df['ICAO Aerodromo Origem'].astype('category')\n",
        "anac_annual_df['ICAO Aerodromo Destino'] = anac_annual_df['ICAO Aerodromo Destino'].astype('category')\n",
        "anac_annual_df['Partida Prevista'] = anac_annual_df['Partida Prevista'].astype('datetime64[ns]')\n",
        "anac_annual_df['Partida Real'] = pd.to_datetime(anac_annual_df['Partida Real'], errors = 'coerce')\n",
        "anac_annual_df['Chegada Prevista'] = anac_annual_df['Chegada Prevista'].astype('datetime64[ns]')\n",
        "anac_annual_df['Chegada Real'] = anac_annual_df['Chegada Real'].astype('datetime64[ns]')\n",
        "anac_annual_df['Situacao Voo'] = anac_annual_df['Situacao Voo'].astype('category')"
      ]
    },
    {
      "cell_type": "code",
      "execution_count": null,
      "metadata": {
        "colab": {
          "base_uri": "https://localhost:8080/"
        },
        "id": "J7EXrTKzRJ7H",
        "outputId": "dba7a8a8-bc79-4dc0-c4ca-85005126e54b"
      },
      "outputs": [
        {
          "output_type": "stream",
          "name": "stdout",
          "text": [
            "<class 'pandas.core.frame.DataFrame'>\n",
            "RangeIndex: 609801 entries, 0 to 609800\n",
            "Data columns (total 11 columns):\n",
            " #   Column                  Non-Null Count   Dtype         \n",
            "---  ------                  --------------   -----         \n",
            " 0   ICAO Empresa Aerea      609801 non-null  category      \n",
            " 1   Numero Voo              609801 non-null  category      \n",
            " 2   Codigo DI               609801 non-null  category      \n",
            " 3   Codigo Tipo Linha       607651 non-null  category      \n",
            " 4   ICAO Aerodromo Origem   609801 non-null  category      \n",
            " 5   ICAO Aerodromo Destino  609801 non-null  category      \n",
            " 6   Partida Prevista        608708 non-null  datetime64[ns]\n",
            " 7   Partida Real            579865 non-null  datetime64[ns]\n",
            " 8   Chegada Prevista        608708 non-null  datetime64[ns]\n",
            " 9   Chegada Real            579866 non-null  datetime64[ns]\n",
            " 10  Situacao Voo            609801 non-null  category      \n",
            "dtypes: category(7), datetime64[ns](4)\n",
            "memory usage: 24.6 MB\n"
          ]
        }
      ],
      "source": [
        "#Confirmando tipo de dados\n",
        "anac_annual_df.info()"
      ]
    },
    {
      "cell_type": "markdown",
      "metadata": {
        "id": "kGlPHBT4OTwW"
      },
      "source": [
        "##Criação de novas colunas"
      ]
    },
    {
      "cell_type": "code",
      "execution_count": null,
      "metadata": {
        "id": "EsbsyUd7OaY_"
      },
      "outputs": [],
      "source": [
        "# Colunas criadas para segregação das colunas do tipo datetime, visando viabilizar as análises\n",
        "anac_annual_df['Dia_PP'] = anac_annual_df['Partida Prevista'].dt.day\n",
        "anac_annual_df['Mes_PP'] = anac_annual_df['Partida Prevista'].dt.month\n",
        "anac_annual_df['Ano_PP'] = anac_annual_df['Partida Prevista'].dt.year\n",
        "anac_annual_df['DOW_PP'] = anac_annual_df['Partida Prevista'].dt.dayofweek\n",
        "\n",
        "anac_annual_df['Dia_PR'] = anac_annual_df['Partida Real'].dt.day\n",
        "anac_annual_df['Mes_PR'] = anac_annual_df['Partida Real'].dt.month\n",
        "anac_annual_df['Ano_PR'] = anac_annual_df['Partida Real'].dt.year\n",
        "anac_annual_df['DOW_PR'] = anac_annual_df['Partida Real'].dt.dayofweek\n",
        "\n",
        "anac_annual_df['Dia_CP'] = anac_annual_df['Chegada Prevista'].dt.day\n",
        "anac_annual_df['Mes_CP'] = anac_annual_df['Chegada Prevista'].dt.month\n",
        "anac_annual_df['Ano_CP'] = anac_annual_df['Chegada Prevista'].dt.year\n",
        "anac_annual_df['DOW_CP'] = anac_annual_df['Chegada Prevista'].dt.dayofweek\n",
        "\n",
        "anac_annual_df['Dia_CR'] = anac_annual_df['Chegada Real'].dt.day\n",
        "anac_annual_df['Mes_CR'] = anac_annual_df['Chegada Real'].dt.month\n",
        "anac_annual_df['Ano_CR'] = anac_annual_df['Chegada Real'].dt.year\n",
        "anac_annual_df['DOW_CR'] = anac_annual_df['Chegada Real'].dt.dayofweek"
      ]
    },
    {
      "cell_type": "code",
      "execution_count": null,
      "metadata": {
        "colab": {
          "base_uri": "https://localhost:8080/"
        },
        "id": "fA_Dqwr6a9fN",
        "outputId": "85a5edf4-83de-4f17-913e-cba61d99a4ea"
      },
      "outputs": [
        {
          "output_type": "execute_result",
          "data": {
            "text/plain": [
              "Index(['ICAO Empresa Aerea', 'Numero Voo', 'Codigo DI', 'Codigo Tipo Linha',\n",
              "       'ICAO Aerodromo Origem', 'ICAO Aerodromo Destino', 'Partida Prevista',\n",
              "       'Partida Real', 'Chegada Prevista', 'Chegada Real', 'Situacao Voo',\n",
              "       'Dia_PP', 'Mes_PP', 'Ano_PP', 'DOW_PP', 'Dia_PR', 'Mes_PR', 'Ano_PR',\n",
              "       'DOW_PR', 'Dia_CP', 'Mes_CP', 'Ano_CP', 'DOW_CP', 'Dia_CR', 'Mes_CR',\n",
              "       'Ano_CR', 'DOW_CR'],\n",
              "      dtype='object')"
            ]
          },
          "metadata": {},
          "execution_count": 11
        }
      ],
      "source": [
        "# Verificando as novas colunas criadas\n",
        "anac_annual_df.columns"
      ]
    },
    {
      "cell_type": "code",
      "execution_count": null,
      "metadata": {
        "colab": {
          "base_uri": "https://localhost:8080/"
        },
        "id": "TndQyt3teqcF",
        "outputId": "ae7e15b0-433b-43b2-d43c-2bb29fc607ba"
      },
      "outputs": [
        {
          "output_type": "stream",
          "name": "stdout",
          "text": [
            "<class 'pandas.core.frame.DataFrame'>\n",
            "RangeIndex: 609801 entries, 0 to 609800\n",
            "Data columns (total 27 columns):\n",
            " #   Column                  Non-Null Count   Dtype         \n",
            "---  ------                  --------------   -----         \n",
            " 0   ICAO Empresa Aerea      609801 non-null  category      \n",
            " 1   Numero Voo              609801 non-null  category      \n",
            " 2   Codigo DI               609801 non-null  category      \n",
            " 3   Codigo Tipo Linha       607651 non-null  category      \n",
            " 4   ICAO Aerodromo Origem   609801 non-null  category      \n",
            " 5   ICAO Aerodromo Destino  609801 non-null  category      \n",
            " 6   Partida Prevista        608708 non-null  datetime64[ns]\n",
            " 7   Partida Real            579865 non-null  datetime64[ns]\n",
            " 8   Chegada Prevista        608708 non-null  datetime64[ns]\n",
            " 9   Chegada Real            579866 non-null  datetime64[ns]\n",
            " 10  Situacao Voo            609801 non-null  category      \n",
            " 11  Dia_PP                  608708 non-null  float64       \n",
            " 12  Mes_PP                  608708 non-null  float64       \n",
            " 13  Ano_PP                  608708 non-null  float64       \n",
            " 14  DOW_PP                  608708 non-null  float64       \n",
            " 15  Dia_PR                  579865 non-null  float64       \n",
            " 16  Mes_PR                  579865 non-null  float64       \n",
            " 17  Ano_PR                  579865 non-null  float64       \n",
            " 18  DOW_PR                  579865 non-null  float64       \n",
            " 19  Dia_CP                  608708 non-null  float64       \n",
            " 20  Mes_CP                  608708 non-null  float64       \n",
            " 21  Ano_CP                  608708 non-null  float64       \n",
            " 22  DOW_CP                  608708 non-null  float64       \n",
            " 23  Dia_CR                  579866 non-null  float64       \n",
            " 24  Mes_CR                  579866 non-null  float64       \n",
            " 25  Ano_CR                  579866 non-null  float64       \n",
            " 26  DOW_CR                  579866 non-null  float64       \n",
            "dtypes: category(7), datetime64[ns](4), float64(16)\n",
            "memory usage: 99.1 MB\n"
          ]
        }
      ],
      "source": [
        "# Validando o datatype das novas colunas\n",
        "anac_annual_df.info()"
      ]
    },
    {
      "cell_type": "markdown",
      "source": [
        "## Categorização dos novos dados"
      ],
      "metadata": {
        "id": "9MysNwQ44T_L"
      }
    },
    {
      "cell_type": "code",
      "execution_count": null,
      "metadata": {
        "id": "DT7cPCO7c2Lo"
      },
      "outputs": [],
      "source": [
        "anac_annual_df['Dia_PP'] = anac_annual_df['Dia_PP'].astype('Int64')\n",
        "anac_annual_df['Mes_PP'] = anac_annual_df['Mes_PP'].astype('Int64')\n",
        "anac_annual_df['Ano_PP'] = anac_annual_df['Ano_PP'].astype('Int64')\n",
        "anac_annual_df['DOW_PP'] = anac_annual_df['DOW_PP'].astype('category')\n",
        "\n",
        "anac_annual_df['Dia_PR'] = anac_annual_df['Dia_PR'].astype('Int64')\n",
        "anac_annual_df['Mes_PR'] = anac_annual_df['Mes_PR'].astype('Int64')\n",
        "anac_annual_df['Ano_PR'] = anac_annual_df['Ano_PR'].astype('Int64')\n",
        "anac_annual_df['DOW_PR'] = anac_annual_df['DOW_PR'].astype('category')\n",
        "\n",
        "anac_annual_df['Dia_CP'] = anac_annual_df['Dia_CP'].astype('Int64')\n",
        "anac_annual_df['Mes_CP'] = anac_annual_df['Mes_CP'].astype('Int64')\n",
        "anac_annual_df['Ano_CP'] = anac_annual_df['Ano_CP'].astype('Int64')\n",
        "anac_annual_df['DOW_CP'] = anac_annual_df['DOW_CP'].astype('category')\n",
        "\n",
        "anac_annual_df['Dia_CR'] = anac_annual_df['Dia_CR'].astype('Int64')\n",
        "anac_annual_df['Mes_CR'] = anac_annual_df['Mes_CR'].astype('Int64')\n",
        "anac_annual_df['Ano_CR'] = anac_annual_df['Ano_CR'].astype('Int64')\n",
        "anac_annual_df['DOW_CR'] = anac_annual_df['DOW_CR'].astype('category')"
      ]
    },
    {
      "cell_type": "code",
      "execution_count": null,
      "metadata": {
        "colab": {
          "base_uri": "https://localhost:8080/"
        },
        "id": "Qj8MXehxcv1_",
        "outputId": "c9fe946c-4cff-41ad-bec2-a7766908a811"
      },
      "outputs": [
        {
          "output_type": "stream",
          "name": "stdout",
          "text": [
            "<class 'pandas.core.frame.DataFrame'>\n",
            "RangeIndex: 609801 entries, 0 to 609800\n",
            "Data columns (total 27 columns):\n",
            " #   Column                  Non-Null Count   Dtype         \n",
            "---  ------                  --------------   -----         \n",
            " 0   ICAO Empresa Aerea      609801 non-null  category      \n",
            " 1   Numero Voo              609801 non-null  category      \n",
            " 2   Codigo DI               609801 non-null  category      \n",
            " 3   Codigo Tipo Linha       607651 non-null  category      \n",
            " 4   ICAO Aerodromo Origem   609801 non-null  category      \n",
            " 5   ICAO Aerodromo Destino  609801 non-null  category      \n",
            " 6   Partida Prevista        608708 non-null  datetime64[ns]\n",
            " 7   Partida Real            579865 non-null  datetime64[ns]\n",
            " 8   Chegada Prevista        608708 non-null  datetime64[ns]\n",
            " 9   Chegada Real            579866 non-null  datetime64[ns]\n",
            " 10  Situacao Voo            609801 non-null  category      \n",
            " 11  Dia_PP                  608708 non-null  Int64         \n",
            " 12  Mes_PP                  608708 non-null  Int64         \n",
            " 13  Ano_PP                  608708 non-null  Int64         \n",
            " 14  DOW_PP                  608708 non-null  category      \n",
            " 15  Dia_PR                  579865 non-null  Int64         \n",
            " 16  Mes_PR                  579865 non-null  Int64         \n",
            " 17  Ano_PR                  579865 non-null  Int64         \n",
            " 18  DOW_PR                  579865 non-null  category      \n",
            " 19  Dia_CP                  608708 non-null  Int64         \n",
            " 20  Mes_CP                  608708 non-null  Int64         \n",
            " 21  Ano_CP                  608708 non-null  Int64         \n",
            " 22  DOW_CP                  608708 non-null  category      \n",
            " 23  Dia_CR                  579866 non-null  Int64         \n",
            " 24  Mes_CR                  579866 non-null  Int64         \n",
            " 25  Ano_CR                  579866 non-null  Int64         \n",
            " 26  DOW_CR                  579866 non-null  category      \n",
            "dtypes: Int64(12), category(11), datetime64[ns](4)\n",
            "memory usage: 89.8 MB\n"
          ]
        }
      ],
      "source": [
        "# Validando o tipo de dados após conversão\n",
        "anac_annual_df.info()"
      ]
    },
    {
      "cell_type": "code",
      "execution_count": null,
      "metadata": {
        "colab": {
          "base_uri": "https://localhost:8080/",
          "height": 507
        },
        "id": "vFG0EbM8PqJp",
        "outputId": "b5cc2777-27d7-4267-cba2-3cc51612f675"
      },
      "outputs": [
        {
          "output_type": "execute_result",
          "data": {
            "text/plain": [
              "  ICAO Empresa Aerea Numero Voo Codigo DI Codigo Tipo Linha  \\\n",
              "0                AAL        904         0                 X   \n",
              "1                AAL        904         0                 X   \n",
              "2                AAL        904         0                 X   \n",
              "3                AAL        904         0                 X   \n",
              "4                AAL        904         0                 X   \n",
              "\n",
              "  ICAO Aerodromo Origem ICAO Aerodromo Destino    Partida Prevista  \\\n",
              "0                  SBGL                   KMIA 2021-01-01 23:35:00   \n",
              "1                  SBGL                   KMIA 2021-02-01 23:35:00   \n",
              "2                  SBGL                   KMIA 2021-03-01 23:35:00   \n",
              "3                  SBGL                   KMIA 2021-04-01 23:45:00   \n",
              "4                  SBGL                   KMIA 2021-05-01 23:45:00   \n",
              "\n",
              "         Partida Real    Chegada Prevista        Chegada Real  ... Ano_PR  \\\n",
              "0 2021-01-01 23:29:00 2021-02-01 08:10:00 2021-02-01 07:56:00  ...   2021   \n",
              "1 2021-02-01 23:34:00 2021-03-01 08:10:00 2021-03-01 08:14:00  ...   2021   \n",
              "2 2021-03-01 23:27:00 2021-04-01 08:10:00 2021-04-01 07:57:00  ...   2021   \n",
              "3 2021-04-01 23:38:00 2021-05-01 08:20:00 2021-05-01 07:51:00  ...   2021   \n",
              "4 2021-05-01 23:34:00 2021-06-01 08:20:00 2021-06-01 08:12:00  ...   2021   \n",
              "\n",
              "   DOW_PR  Dia_CP  Mes_CP Ano_CP  DOW_CP  Dia_CR  Mes_CR Ano_CR  DOW_CR  \n",
              "0     4.0       1       2   2021     0.0       1       2   2021     0.0  \n",
              "1     0.0       1       3   2021     0.0       1       3   2021     0.0  \n",
              "2     0.0       1       4   2021     3.0       1       4   2021     3.0  \n",
              "3     3.0       1       5   2021     5.0       1       5   2021     5.0  \n",
              "4     5.0       1       6   2021     1.0       1       6   2021     1.0  \n",
              "\n",
              "[5 rows x 27 columns]"
            ],
            "text/html": [
              "\n",
              "  <div id=\"df-521ec6cb-d56b-4551-94ad-2b42101295f6\">\n",
              "    <div class=\"colab-df-container\">\n",
              "      <div>\n",
              "<style scoped>\n",
              "    .dataframe tbody tr th:only-of-type {\n",
              "        vertical-align: middle;\n",
              "    }\n",
              "\n",
              "    .dataframe tbody tr th {\n",
              "        vertical-align: top;\n",
              "    }\n",
              "\n",
              "    .dataframe thead th {\n",
              "        text-align: right;\n",
              "    }\n",
              "</style>\n",
              "<table border=\"1\" class=\"dataframe\">\n",
              "  <thead>\n",
              "    <tr style=\"text-align: right;\">\n",
              "      <th></th>\n",
              "      <th>ICAO Empresa Aerea</th>\n",
              "      <th>Numero Voo</th>\n",
              "      <th>Codigo DI</th>\n",
              "      <th>Codigo Tipo Linha</th>\n",
              "      <th>ICAO Aerodromo Origem</th>\n",
              "      <th>ICAO Aerodromo Destino</th>\n",
              "      <th>Partida Prevista</th>\n",
              "      <th>Partida Real</th>\n",
              "      <th>Chegada Prevista</th>\n",
              "      <th>Chegada Real</th>\n",
              "      <th>...</th>\n",
              "      <th>Ano_PR</th>\n",
              "      <th>DOW_PR</th>\n",
              "      <th>Dia_CP</th>\n",
              "      <th>Mes_CP</th>\n",
              "      <th>Ano_CP</th>\n",
              "      <th>DOW_CP</th>\n",
              "      <th>Dia_CR</th>\n",
              "      <th>Mes_CR</th>\n",
              "      <th>Ano_CR</th>\n",
              "      <th>DOW_CR</th>\n",
              "    </tr>\n",
              "  </thead>\n",
              "  <tbody>\n",
              "    <tr>\n",
              "      <th>0</th>\n",
              "      <td>AAL</td>\n",
              "      <td>904</td>\n",
              "      <td>0</td>\n",
              "      <td>X</td>\n",
              "      <td>SBGL</td>\n",
              "      <td>KMIA</td>\n",
              "      <td>2021-01-01 23:35:00</td>\n",
              "      <td>2021-01-01 23:29:00</td>\n",
              "      <td>2021-02-01 08:10:00</td>\n",
              "      <td>2021-02-01 07:56:00</td>\n",
              "      <td>...</td>\n",
              "      <td>2021</td>\n",
              "      <td>4.0</td>\n",
              "      <td>1</td>\n",
              "      <td>2</td>\n",
              "      <td>2021</td>\n",
              "      <td>0.0</td>\n",
              "      <td>1</td>\n",
              "      <td>2</td>\n",
              "      <td>2021</td>\n",
              "      <td>0.0</td>\n",
              "    </tr>\n",
              "    <tr>\n",
              "      <th>1</th>\n",
              "      <td>AAL</td>\n",
              "      <td>904</td>\n",
              "      <td>0</td>\n",
              "      <td>X</td>\n",
              "      <td>SBGL</td>\n",
              "      <td>KMIA</td>\n",
              "      <td>2021-02-01 23:35:00</td>\n",
              "      <td>2021-02-01 23:34:00</td>\n",
              "      <td>2021-03-01 08:10:00</td>\n",
              "      <td>2021-03-01 08:14:00</td>\n",
              "      <td>...</td>\n",
              "      <td>2021</td>\n",
              "      <td>0.0</td>\n",
              "      <td>1</td>\n",
              "      <td>3</td>\n",
              "      <td>2021</td>\n",
              "      <td>0.0</td>\n",
              "      <td>1</td>\n",
              "      <td>3</td>\n",
              "      <td>2021</td>\n",
              "      <td>0.0</td>\n",
              "    </tr>\n",
              "    <tr>\n",
              "      <th>2</th>\n",
              "      <td>AAL</td>\n",
              "      <td>904</td>\n",
              "      <td>0</td>\n",
              "      <td>X</td>\n",
              "      <td>SBGL</td>\n",
              "      <td>KMIA</td>\n",
              "      <td>2021-03-01 23:35:00</td>\n",
              "      <td>2021-03-01 23:27:00</td>\n",
              "      <td>2021-04-01 08:10:00</td>\n",
              "      <td>2021-04-01 07:57:00</td>\n",
              "      <td>...</td>\n",
              "      <td>2021</td>\n",
              "      <td>0.0</td>\n",
              "      <td>1</td>\n",
              "      <td>4</td>\n",
              "      <td>2021</td>\n",
              "      <td>3.0</td>\n",
              "      <td>1</td>\n",
              "      <td>4</td>\n",
              "      <td>2021</td>\n",
              "      <td>3.0</td>\n",
              "    </tr>\n",
              "    <tr>\n",
              "      <th>3</th>\n",
              "      <td>AAL</td>\n",
              "      <td>904</td>\n",
              "      <td>0</td>\n",
              "      <td>X</td>\n",
              "      <td>SBGL</td>\n",
              "      <td>KMIA</td>\n",
              "      <td>2021-04-01 23:45:00</td>\n",
              "      <td>2021-04-01 23:38:00</td>\n",
              "      <td>2021-05-01 08:20:00</td>\n",
              "      <td>2021-05-01 07:51:00</td>\n",
              "      <td>...</td>\n",
              "      <td>2021</td>\n",
              "      <td>3.0</td>\n",
              "      <td>1</td>\n",
              "      <td>5</td>\n",
              "      <td>2021</td>\n",
              "      <td>5.0</td>\n",
              "      <td>1</td>\n",
              "      <td>5</td>\n",
              "      <td>2021</td>\n",
              "      <td>5.0</td>\n",
              "    </tr>\n",
              "    <tr>\n",
              "      <th>4</th>\n",
              "      <td>AAL</td>\n",
              "      <td>904</td>\n",
              "      <td>0</td>\n",
              "      <td>X</td>\n",
              "      <td>SBGL</td>\n",
              "      <td>KMIA</td>\n",
              "      <td>2021-05-01 23:45:00</td>\n",
              "      <td>2021-05-01 23:34:00</td>\n",
              "      <td>2021-06-01 08:20:00</td>\n",
              "      <td>2021-06-01 08:12:00</td>\n",
              "      <td>...</td>\n",
              "      <td>2021</td>\n",
              "      <td>5.0</td>\n",
              "      <td>1</td>\n",
              "      <td>6</td>\n",
              "      <td>2021</td>\n",
              "      <td>1.0</td>\n",
              "      <td>1</td>\n",
              "      <td>6</td>\n",
              "      <td>2021</td>\n",
              "      <td>1.0</td>\n",
              "    </tr>\n",
              "  </tbody>\n",
              "</table>\n",
              "<p>5 rows × 27 columns</p>\n",
              "</div>\n",
              "      <button class=\"colab-df-convert\" onclick=\"convertToInteractive('df-521ec6cb-d56b-4551-94ad-2b42101295f6')\"\n",
              "              title=\"Convert this dataframe to an interactive table.\"\n",
              "              style=\"display:none;\">\n",
              "        \n",
              "  <svg xmlns=\"http://www.w3.org/2000/svg\" height=\"24px\"viewBox=\"0 0 24 24\"\n",
              "       width=\"24px\">\n",
              "    <path d=\"M0 0h24v24H0V0z\" fill=\"none\"/>\n",
              "    <path d=\"M18.56 5.44l.94 2.06.94-2.06 2.06-.94-2.06-.94-.94-2.06-.94 2.06-2.06.94zm-11 1L8.5 8.5l.94-2.06 2.06-.94-2.06-.94L8.5 2.5l-.94 2.06-2.06.94zm10 10l.94 2.06.94-2.06 2.06-.94-2.06-.94-.94-2.06-.94 2.06-2.06.94z\"/><path d=\"M17.41 7.96l-1.37-1.37c-.4-.4-.92-.59-1.43-.59-.52 0-1.04.2-1.43.59L10.3 9.45l-7.72 7.72c-.78.78-.78 2.05 0 2.83L4 21.41c.39.39.9.59 1.41.59.51 0 1.02-.2 1.41-.59l7.78-7.78 2.81-2.81c.8-.78.8-2.07 0-2.86zM5.41 20L4 18.59l7.72-7.72 1.47 1.35L5.41 20z\"/>\n",
              "  </svg>\n",
              "      </button>\n",
              "      \n",
              "  <style>\n",
              "    .colab-df-container {\n",
              "      display:flex;\n",
              "      flex-wrap:wrap;\n",
              "      gap: 12px;\n",
              "    }\n",
              "\n",
              "    .colab-df-convert {\n",
              "      background-color: #E8F0FE;\n",
              "      border: none;\n",
              "      border-radius: 50%;\n",
              "      cursor: pointer;\n",
              "      display: none;\n",
              "      fill: #1967D2;\n",
              "      height: 32px;\n",
              "      padding: 0 0 0 0;\n",
              "      width: 32px;\n",
              "    }\n",
              "\n",
              "    .colab-df-convert:hover {\n",
              "      background-color: #E2EBFA;\n",
              "      box-shadow: 0px 1px 2px rgba(60, 64, 67, 0.3), 0px 1px 3px 1px rgba(60, 64, 67, 0.15);\n",
              "      fill: #174EA6;\n",
              "    }\n",
              "\n",
              "    [theme=dark] .colab-df-convert {\n",
              "      background-color: #3B4455;\n",
              "      fill: #D2E3FC;\n",
              "    }\n",
              "\n",
              "    [theme=dark] .colab-df-convert:hover {\n",
              "      background-color: #434B5C;\n",
              "      box-shadow: 0px 1px 3px 1px rgba(0, 0, 0, 0.15);\n",
              "      filter: drop-shadow(0px 1px 2px rgba(0, 0, 0, 0.3));\n",
              "      fill: #FFFFFF;\n",
              "    }\n",
              "  </style>\n",
              "\n",
              "      <script>\n",
              "        const buttonEl =\n",
              "          document.querySelector('#df-521ec6cb-d56b-4551-94ad-2b42101295f6 button.colab-df-convert');\n",
              "        buttonEl.style.display =\n",
              "          google.colab.kernel.accessAllowed ? 'block' : 'none';\n",
              "\n",
              "        async function convertToInteractive(key) {\n",
              "          const element = document.querySelector('#df-521ec6cb-d56b-4551-94ad-2b42101295f6');\n",
              "          const dataTable =\n",
              "            await google.colab.kernel.invokeFunction('convertToInteractive',\n",
              "                                                     [key], {});\n",
              "          if (!dataTable) return;\n",
              "\n",
              "          const docLinkHtml = 'Like what you see? Visit the ' +\n",
              "            '<a target=\"_blank\" href=https://colab.research.google.com/notebooks/data_table.ipynb>data table notebook</a>'\n",
              "            + ' to learn more about interactive tables.';\n",
              "          element.innerHTML = '';\n",
              "          dataTable['output_type'] = 'display_data';\n",
              "          await google.colab.output.renderOutput(dataTable, element);\n",
              "          const docLink = document.createElement('div');\n",
              "          docLink.innerHTML = docLinkHtml;\n",
              "          element.appendChild(docLink);\n",
              "        }\n",
              "      </script>\n",
              "    </div>\n",
              "  </div>\n",
              "  "
            ]
          },
          "metadata": {},
          "execution_count": 15
        }
      ],
      "source": [
        "# Análise do comportamento da tabela com as novas colunas\n",
        "anac_annual_df.head()"
      ]
    },
    {
      "cell_type": "markdown",
      "source": [
        "## Verificando o padrão de inputs"
      ],
      "metadata": {
        "id": "-LmOY-F04i51"
      }
    },
    {
      "cell_type": "code",
      "execution_count": null,
      "metadata": {
        "colab": {
          "base_uri": "https://localhost:8080/"
        },
        "id": "lOqunc36ieFm",
        "outputId": "d33e9c45-cdf2-4c47-88df-7121ade83f0b"
      },
      "outputs": [
        {
          "output_type": "execute_result",
          "data": {
            "text/plain": [
              "<IntegerArray>\n",
              "[2, 3, 4, 5, 6, 7, 8, 9, 10, 11, 12, 1, <NA>]\n",
              "Length: 13, dtype: Int64"
            ]
          },
          "metadata": {},
          "execution_count": 16
        }
      ],
      "source": [
        "# Verificando os dados retornados\n",
        "anac_annual_df['Mes_CP'].unique()"
      ]
    },
    {
      "cell_type": "code",
      "execution_count": null,
      "metadata": {
        "colab": {
          "base_uri": "https://localhost:8080/"
        },
        "id": "ZgipYqUMxkPD",
        "outputId": "1b6b1a3c-f673-4514-d4d9-0d9b16da94f9"
      },
      "outputs": [
        {
          "output_type": "stream",
          "name": "stderr",
          "text": [
            "/usr/local/lib/python3.8/dist-packages/pandas/io/formats/format.py:1429: FutureWarning: Index.ravel returning ndarray is deprecated; in a future version this will return a view on self.\n",
            "  for val, m in zip(values.ravel(), mask.ravel())\n"
          ]
        },
        {
          "output_type": "execute_result",
          "data": {
            "text/plain": [
              "[0.0, 3.0, 5.0, 1.0, 6.0, 2.0, 4.0, NaN]\n",
              "Categories (7, float64): [0.0, 1.0, 2.0, 3.0, 4.0, 5.0, 6.0]"
            ]
          },
          "metadata": {},
          "execution_count": 17
        }
      ],
      "source": [
        "# Analisando a forma que os dias da semana são plotados\n",
        "anac_annual_df['DOW_CR'].unique()"
      ]
    },
    {
      "cell_type": "code",
      "execution_count": null,
      "metadata": {
        "id": "KtbqwP03xE4t"
      },
      "outputs": [],
      "source": [
        "# Realizando o replace de número para string nos dias da semana\n",
        "anac_annual_df[['DOW_PP', 'DOW_PR', 'DOW_CP', 'DOW_CR']].replace(0.0, 'Segunda-feira', inplace=True)\n",
        "anac_annual_df[['DOW_PP', 'DOW_PR', 'DOW_CP', 'DOW_CR']].replace(1.0, 'Terça-feira', inplace=True)\n",
        "anac_annual_df[['DOW_PP', 'DOW_PR', 'DOW_CP', 'DOW_CR']].replace(2.0, 'Quarta-feira', inplace=True)\n",
        "anac_annual_df[['DOW_PP', 'DOW_PR', 'DOW_CP', 'DOW_CR']].replace(3.0, 'Quinta-feira', inplace=True)\n",
        "anac_annual_df[['DOW_PP', 'DOW_PR', 'DOW_CP', 'DOW_CR']].replace(4.0, 'Sexta-feira', inplace=True)\n",
        "anac_annual_df[['DOW_PP', 'DOW_PR', 'DOW_CP', 'DOW_CR']].replace(5.0, 'Sábado', inplace=True)\n",
        "anac_annual_df[['DOW_PP', 'DOW_PR', 'DOW_CP', 'DOW_CR']].replace(6.0, 'Domingo', inplace=True)"
      ]
    },
    {
      "cell_type": "code",
      "execution_count": null,
      "metadata": {
        "colab": {
          "base_uri": "https://localhost:8080/"
        },
        "id": "jxNwFsTrhtmN",
        "outputId": "75324d61-5d69-4333-cd8a-f5ce59799f89"
      },
      "outputs": [
        {
          "output_type": "execute_result",
          "data": {
            "text/plain": [
              "<IntegerArray>\n",
              "[2021, <NA>, 2202, 2022]\n",
              "Length: 4, dtype: Int64"
            ]
          },
          "metadata": {},
          "execution_count": 19
        }
      ],
      "source": [
        "anac_annual_df['Ano_CR'].unique()"
      ]
    },
    {
      "cell_type": "code",
      "execution_count": null,
      "metadata": {
        "colab": {
          "base_uri": "https://localhost:8080/"
        },
        "id": "QWOI1YBpMke5",
        "outputId": "a7d87f22-5f83-4be4-b85e-d75994c2a819"
      },
      "outputs": [
        {
          "output_type": "execute_result",
          "data": {
            "text/plain": [
              "ICAO Empresa Aerea        0\n",
              "Numero Voo                0\n",
              "Codigo DI                 0\n",
              "Codigo Tipo Linha         0\n",
              "ICAO Aerodromo Origem     0\n",
              "ICAO Aerodromo Destino    0\n",
              "Partida Prevista          0\n",
              "Partida Real              0\n",
              "Chegada Prevista          0\n",
              "Chegada Real              0\n",
              "Situacao Voo              0\n",
              "Dia_PP                    0\n",
              "Mes_PP                    0\n",
              "Ano_PP                    0\n",
              "DOW_PP                    0\n",
              "Dia_PR                    0\n",
              "Mes_PR                    0\n",
              "Ano_PR                    0\n",
              "DOW_PR                    0\n",
              "Dia_CP                    0\n",
              "Mes_CP                    0\n",
              "Ano_CP                    0\n",
              "DOW_CP                    0\n",
              "Dia_CR                    0\n",
              "Mes_CR                    0\n",
              "Ano_CR                    1\n",
              "DOW_CR                    0\n",
              "dtype: int64"
            ]
          },
          "metadata": {},
          "execution_count": 20
        }
      ],
      "source": [
        "# Analisando quantas vezes o ano \"2202\" se repete para garantir que foi um erro de INPUT\n",
        "anac_annual_df.isin([2202]).sum()"
      ]
    },
    {
      "cell_type": "code",
      "execution_count": null,
      "metadata": {
        "colab": {
          "base_uri": "https://localhost:8080/",
          "height": 243
        },
        "id": "zddXhYrSM7IV",
        "outputId": "6632647f-bdff-4a0c-ed5b-62ef4ebbf3b2"
      },
      "outputs": [
        {
          "output_type": "execute_result",
          "data": {
            "text/plain": [
              "      ICAO Empresa Aerea Numero Voo Codigo DI Codigo Tipo Linha  \\\n",
              "76440                GEC       8265         0                 X   \n",
              "\n",
              "      ICAO Aerodromo Origem ICAO Aerodromo Destino    Partida Prevista  \\\n",
              "76440                  SAEZ                   EDDF 2021-02-18 00:45:00   \n",
              "\n",
              "             Partida Real    Chegada Prevista        Chegada Real  ... Ano_PR  \\\n",
              "76440 2021-02-18 00:44:00 2021-02-18 14:20:00 2202-02-18 13:59:00  ...   2021   \n",
              "\n",
              "             DOW_PR  Dia_CP  Mes_CP Ano_CP        DOW_CP  Dia_CR  Mes_CR  \\\n",
              "76440  Quinta-feira      18       2   2021  Quinta-feira      18       2   \n",
              "\n",
              "      Ano_CR        DOW_CR  \n",
              "76440   2202  Quinta-feira  \n",
              "\n",
              "[1 rows x 27 columns]"
            ],
            "text/html": [
              "\n",
              "  <div id=\"df-cd772cb1-b2f1-45a8-9db7-6fded190571b\">\n",
              "    <div class=\"colab-df-container\">\n",
              "      <div>\n",
              "<style scoped>\n",
              "    .dataframe tbody tr th:only-of-type {\n",
              "        vertical-align: middle;\n",
              "    }\n",
              "\n",
              "    .dataframe tbody tr th {\n",
              "        vertical-align: top;\n",
              "    }\n",
              "\n",
              "    .dataframe thead th {\n",
              "        text-align: right;\n",
              "    }\n",
              "</style>\n",
              "<table border=\"1\" class=\"dataframe\">\n",
              "  <thead>\n",
              "    <tr style=\"text-align: right;\">\n",
              "      <th></th>\n",
              "      <th>ICAO Empresa Aerea</th>\n",
              "      <th>Numero Voo</th>\n",
              "      <th>Codigo DI</th>\n",
              "      <th>Codigo Tipo Linha</th>\n",
              "      <th>ICAO Aerodromo Origem</th>\n",
              "      <th>ICAO Aerodromo Destino</th>\n",
              "      <th>Partida Prevista</th>\n",
              "      <th>Partida Real</th>\n",
              "      <th>Chegada Prevista</th>\n",
              "      <th>Chegada Real</th>\n",
              "      <th>...</th>\n",
              "      <th>Ano_PR</th>\n",
              "      <th>DOW_PR</th>\n",
              "      <th>Dia_CP</th>\n",
              "      <th>Mes_CP</th>\n",
              "      <th>Ano_CP</th>\n",
              "      <th>DOW_CP</th>\n",
              "      <th>Dia_CR</th>\n",
              "      <th>Mes_CR</th>\n",
              "      <th>Ano_CR</th>\n",
              "      <th>DOW_CR</th>\n",
              "    </tr>\n",
              "  </thead>\n",
              "  <tbody>\n",
              "    <tr>\n",
              "      <th>76440</th>\n",
              "      <td>GEC</td>\n",
              "      <td>8265</td>\n",
              "      <td>0</td>\n",
              "      <td>X</td>\n",
              "      <td>SAEZ</td>\n",
              "      <td>EDDF</td>\n",
              "      <td>2021-02-18 00:45:00</td>\n",
              "      <td>2021-02-18 00:44:00</td>\n",
              "      <td>2021-02-18 14:20:00</td>\n",
              "      <td>2202-02-18 13:59:00</td>\n",
              "      <td>...</td>\n",
              "      <td>2021</td>\n",
              "      <td>Quinta-feira</td>\n",
              "      <td>18</td>\n",
              "      <td>2</td>\n",
              "      <td>2021</td>\n",
              "      <td>Quinta-feira</td>\n",
              "      <td>18</td>\n",
              "      <td>2</td>\n",
              "      <td>2202</td>\n",
              "      <td>Quinta-feira</td>\n",
              "    </tr>\n",
              "  </tbody>\n",
              "</table>\n",
              "<p>1 rows × 27 columns</p>\n",
              "</div>\n",
              "      <button class=\"colab-df-convert\" onclick=\"convertToInteractive('df-cd772cb1-b2f1-45a8-9db7-6fded190571b')\"\n",
              "              title=\"Convert this dataframe to an interactive table.\"\n",
              "              style=\"display:none;\">\n",
              "        \n",
              "  <svg xmlns=\"http://www.w3.org/2000/svg\" height=\"24px\"viewBox=\"0 0 24 24\"\n",
              "       width=\"24px\">\n",
              "    <path d=\"M0 0h24v24H0V0z\" fill=\"none\"/>\n",
              "    <path d=\"M18.56 5.44l.94 2.06.94-2.06 2.06-.94-2.06-.94-.94-2.06-.94 2.06-2.06.94zm-11 1L8.5 8.5l.94-2.06 2.06-.94-2.06-.94L8.5 2.5l-.94 2.06-2.06.94zm10 10l.94 2.06.94-2.06 2.06-.94-2.06-.94-.94-2.06-.94 2.06-2.06.94z\"/><path d=\"M17.41 7.96l-1.37-1.37c-.4-.4-.92-.59-1.43-.59-.52 0-1.04.2-1.43.59L10.3 9.45l-7.72 7.72c-.78.78-.78 2.05 0 2.83L4 21.41c.39.39.9.59 1.41.59.51 0 1.02-.2 1.41-.59l7.78-7.78 2.81-2.81c.8-.78.8-2.07 0-2.86zM5.41 20L4 18.59l7.72-7.72 1.47 1.35L5.41 20z\"/>\n",
              "  </svg>\n",
              "      </button>\n",
              "      \n",
              "  <style>\n",
              "    .colab-df-container {\n",
              "      display:flex;\n",
              "      flex-wrap:wrap;\n",
              "      gap: 12px;\n",
              "    }\n",
              "\n",
              "    .colab-df-convert {\n",
              "      background-color: #E8F0FE;\n",
              "      border: none;\n",
              "      border-radius: 50%;\n",
              "      cursor: pointer;\n",
              "      display: none;\n",
              "      fill: #1967D2;\n",
              "      height: 32px;\n",
              "      padding: 0 0 0 0;\n",
              "      width: 32px;\n",
              "    }\n",
              "\n",
              "    .colab-df-convert:hover {\n",
              "      background-color: #E2EBFA;\n",
              "      box-shadow: 0px 1px 2px rgba(60, 64, 67, 0.3), 0px 1px 3px 1px rgba(60, 64, 67, 0.15);\n",
              "      fill: #174EA6;\n",
              "    }\n",
              "\n",
              "    [theme=dark] .colab-df-convert {\n",
              "      background-color: #3B4455;\n",
              "      fill: #D2E3FC;\n",
              "    }\n",
              "\n",
              "    [theme=dark] .colab-df-convert:hover {\n",
              "      background-color: #434B5C;\n",
              "      box-shadow: 0px 1px 3px 1px rgba(0, 0, 0, 0.15);\n",
              "      filter: drop-shadow(0px 1px 2px rgba(0, 0, 0, 0.3));\n",
              "      fill: #FFFFFF;\n",
              "    }\n",
              "  </style>\n",
              "\n",
              "      <script>\n",
              "        const buttonEl =\n",
              "          document.querySelector('#df-cd772cb1-b2f1-45a8-9db7-6fded190571b button.colab-df-convert');\n",
              "        buttonEl.style.display =\n",
              "          google.colab.kernel.accessAllowed ? 'block' : 'none';\n",
              "\n",
              "        async function convertToInteractive(key) {\n",
              "          const element = document.querySelector('#df-cd772cb1-b2f1-45a8-9db7-6fded190571b');\n",
              "          const dataTable =\n",
              "            await google.colab.kernel.invokeFunction('convertToInteractive',\n",
              "                                                     [key], {});\n",
              "          if (!dataTable) return;\n",
              "\n",
              "          const docLinkHtml = 'Like what you see? Visit the ' +\n",
              "            '<a target=\"_blank\" href=https://colab.research.google.com/notebooks/data_table.ipynb>data table notebook</a>'\n",
              "            + ' to learn more about interactive tables.';\n",
              "          element.innerHTML = '';\n",
              "          dataTable['output_type'] = 'display_data';\n",
              "          await google.colab.output.renderOutput(dataTable, element);\n",
              "          const docLink = document.createElement('div');\n",
              "          docLink.innerHTML = docLinkHtml;\n",
              "          element.appendChild(docLink);\n",
              "        }\n",
              "      </script>\n",
              "    </div>\n",
              "  </div>\n",
              "  "
            ]
          },
          "metadata": {},
          "execution_count": 21
        }
      ],
      "source": [
        "# Verificando o padrão de data para definir qual ação tomar\n",
        "anac_annual_df[anac_annual_df['Ano_CR'] == 2202]"
      ]
    },
    {
      "cell_type": "code",
      "execution_count": null,
      "metadata": {
        "id": "F0MtywxBNib_"
      },
      "outputs": [],
      "source": [
        "# Realizando o replace de 2202 para 2021\n",
        "anac_annual_df['Ano_CR'].replace(2202, 2021, inplace=True)\n",
        "anac_annual_df['Chegada Real'].replace('2202-02-18 13:59:00', '2021-02-18 13:59:00', inplace=True)"
      ]
    },
    {
      "cell_type": "code",
      "execution_count": null,
      "metadata": {
        "colab": {
          "base_uri": "https://localhost:8080/",
          "height": 177
        },
        "id": "8g3282C6OKkE",
        "outputId": "de86aab9-7bac-4e9d-8b01-77e112691cd3"
      },
      "outputs": [
        {
          "output_type": "execute_result",
          "data": {
            "text/plain": [
              "Empty DataFrame\n",
              "Columns: [ICAO Empresa Aerea, Numero Voo, Codigo DI, Codigo Tipo Linha, ICAO Aerodromo Origem, ICAO Aerodromo Destino, Partida Prevista, Partida Real, Chegada Prevista, Chegada Real, Situacao Voo, Dia_PP, Mes_PP, Ano_PP, DOW_PP, Dia_PR, Mes_PR, Ano_PR, DOW_PR, Dia_CP, Mes_CP, Ano_CP, DOW_CP, Dia_CR, Mes_CR, Ano_CR, DOW_CR]\n",
              "Index: []\n",
              "\n",
              "[0 rows x 27 columns]"
            ],
            "text/html": [
              "\n",
              "  <div id=\"df-ccf45af2-c84c-4d0d-b331-0081d1f1020a\">\n",
              "    <div class=\"colab-df-container\">\n",
              "      <div>\n",
              "<style scoped>\n",
              "    .dataframe tbody tr th:only-of-type {\n",
              "        vertical-align: middle;\n",
              "    }\n",
              "\n",
              "    .dataframe tbody tr th {\n",
              "        vertical-align: top;\n",
              "    }\n",
              "\n",
              "    .dataframe thead th {\n",
              "        text-align: right;\n",
              "    }\n",
              "</style>\n",
              "<table border=\"1\" class=\"dataframe\">\n",
              "  <thead>\n",
              "    <tr style=\"text-align: right;\">\n",
              "      <th></th>\n",
              "      <th>ICAO Empresa Aerea</th>\n",
              "      <th>Numero Voo</th>\n",
              "      <th>Codigo DI</th>\n",
              "      <th>Codigo Tipo Linha</th>\n",
              "      <th>ICAO Aerodromo Origem</th>\n",
              "      <th>ICAO Aerodromo Destino</th>\n",
              "      <th>Partida Prevista</th>\n",
              "      <th>Partida Real</th>\n",
              "      <th>Chegada Prevista</th>\n",
              "      <th>Chegada Real</th>\n",
              "      <th>...</th>\n",
              "      <th>Ano_PR</th>\n",
              "      <th>DOW_PR</th>\n",
              "      <th>Dia_CP</th>\n",
              "      <th>Mes_CP</th>\n",
              "      <th>Ano_CP</th>\n",
              "      <th>DOW_CP</th>\n",
              "      <th>Dia_CR</th>\n",
              "      <th>Mes_CR</th>\n",
              "      <th>Ano_CR</th>\n",
              "      <th>DOW_CR</th>\n",
              "    </tr>\n",
              "  </thead>\n",
              "  <tbody>\n",
              "  </tbody>\n",
              "</table>\n",
              "<p>0 rows × 27 columns</p>\n",
              "</div>\n",
              "      <button class=\"colab-df-convert\" onclick=\"convertToInteractive('df-ccf45af2-c84c-4d0d-b331-0081d1f1020a')\"\n",
              "              title=\"Convert this dataframe to an interactive table.\"\n",
              "              style=\"display:none;\">\n",
              "        \n",
              "  <svg xmlns=\"http://www.w3.org/2000/svg\" height=\"24px\"viewBox=\"0 0 24 24\"\n",
              "       width=\"24px\">\n",
              "    <path d=\"M0 0h24v24H0V0z\" fill=\"none\"/>\n",
              "    <path d=\"M18.56 5.44l.94 2.06.94-2.06 2.06-.94-2.06-.94-.94-2.06-.94 2.06-2.06.94zm-11 1L8.5 8.5l.94-2.06 2.06-.94-2.06-.94L8.5 2.5l-.94 2.06-2.06.94zm10 10l.94 2.06.94-2.06 2.06-.94-2.06-.94-.94-2.06-.94 2.06-2.06.94z\"/><path d=\"M17.41 7.96l-1.37-1.37c-.4-.4-.92-.59-1.43-.59-.52 0-1.04.2-1.43.59L10.3 9.45l-7.72 7.72c-.78.78-.78 2.05 0 2.83L4 21.41c.39.39.9.59 1.41.59.51 0 1.02-.2 1.41-.59l7.78-7.78 2.81-2.81c.8-.78.8-2.07 0-2.86zM5.41 20L4 18.59l7.72-7.72 1.47 1.35L5.41 20z\"/>\n",
              "  </svg>\n",
              "      </button>\n",
              "      \n",
              "  <style>\n",
              "    .colab-df-container {\n",
              "      display:flex;\n",
              "      flex-wrap:wrap;\n",
              "      gap: 12px;\n",
              "    }\n",
              "\n",
              "    .colab-df-convert {\n",
              "      background-color: #E8F0FE;\n",
              "      border: none;\n",
              "      border-radius: 50%;\n",
              "      cursor: pointer;\n",
              "      display: none;\n",
              "      fill: #1967D2;\n",
              "      height: 32px;\n",
              "      padding: 0 0 0 0;\n",
              "      width: 32px;\n",
              "    }\n",
              "\n",
              "    .colab-df-convert:hover {\n",
              "      background-color: #E2EBFA;\n",
              "      box-shadow: 0px 1px 2px rgba(60, 64, 67, 0.3), 0px 1px 3px 1px rgba(60, 64, 67, 0.15);\n",
              "      fill: #174EA6;\n",
              "    }\n",
              "\n",
              "    [theme=dark] .colab-df-convert {\n",
              "      background-color: #3B4455;\n",
              "      fill: #D2E3FC;\n",
              "    }\n",
              "\n",
              "    [theme=dark] .colab-df-convert:hover {\n",
              "      background-color: #434B5C;\n",
              "      box-shadow: 0px 1px 3px 1px rgba(0, 0, 0, 0.15);\n",
              "      filter: drop-shadow(0px 1px 2px rgba(0, 0, 0, 0.3));\n",
              "      fill: #FFFFFF;\n",
              "    }\n",
              "  </style>\n",
              "\n",
              "      <script>\n",
              "        const buttonEl =\n",
              "          document.querySelector('#df-ccf45af2-c84c-4d0d-b331-0081d1f1020a button.colab-df-convert');\n",
              "        buttonEl.style.display =\n",
              "          google.colab.kernel.accessAllowed ? 'block' : 'none';\n",
              "\n",
              "        async function convertToInteractive(key) {\n",
              "          const element = document.querySelector('#df-ccf45af2-c84c-4d0d-b331-0081d1f1020a');\n",
              "          const dataTable =\n",
              "            await google.colab.kernel.invokeFunction('convertToInteractive',\n",
              "                                                     [key], {});\n",
              "          if (!dataTable) return;\n",
              "\n",
              "          const docLinkHtml = 'Like what you see? Visit the ' +\n",
              "            '<a target=\"_blank\" href=https://colab.research.google.com/notebooks/data_table.ipynb>data table notebook</a>'\n",
              "            + ' to learn more about interactive tables.';\n",
              "          element.innerHTML = '';\n",
              "          dataTable['output_type'] = 'display_data';\n",
              "          await google.colab.output.renderOutput(dataTable, element);\n",
              "          const docLink = document.createElement('div');\n",
              "          docLink.innerHTML = docLinkHtml;\n",
              "          element.appendChild(docLink);\n",
              "        }\n",
              "      </script>\n",
              "    </div>\n",
              "  </div>\n",
              "  "
            ]
          },
          "metadata": {},
          "execution_count": 23
        }
      ],
      "source": [
        "# Verificando se a correção foi feita\n",
        "anac_annual_df[anac_annual_df['Chegada Real'] == '2202-02-18 13:59:00']"
      ]
    },
    {
      "cell_type": "code",
      "execution_count": null,
      "metadata": {
        "colab": {
          "base_uri": "https://localhost:8080/"
        },
        "id": "dnaKfULgDo0z",
        "outputId": "01baed3a-5ba8-4707-90ec-87192ff338f3"
      },
      "outputs": [
        {
          "output_type": "execute_result",
          "data": {
            "text/plain": [
              "['REALIZADO', 'CANCELADO', 'NíO INFORMADO', 'NÌO INFORMADO', 'NÃO INFORMADO']\n",
              "Categories (5, object): ['CANCELADO', 'NÃO INFORMADO', 'NÌO INFORMADO', 'NíO INFORMADO',\n",
              "                         'REALIZADO']"
            ]
          },
          "metadata": {},
          "execution_count": 24
        }
      ],
      "source": [
        "# Verificando os inputs para Situação do Voo\n",
        "anac_annual_df['Situacao Voo'].unique()"
      ]
    },
    {
      "cell_type": "code",
      "execution_count": null,
      "metadata": {
        "id": "O-fwIpNMDuCf"
      },
      "outputs": [],
      "source": [
        "# Realizando o replace dos dados para \"NÃO INFORMADO\"\n",
        "anac_annual_df['Situacao Voo'].replace(['NíO INFORMADO', 'NÌO INFORMADO'], 'NÃO INFORMADO', inplace=True)"
      ]
    },
    {
      "cell_type": "markdown",
      "metadata": {
        "id": "RCGW1zB3Otul"
      },
      "source": [
        "##Verificação de dados duplicados"
      ]
    },
    {
      "cell_type": "code",
      "execution_count": null,
      "metadata": {
        "colab": {
          "base_uri": "https://localhost:8080/",
          "height": 243
        },
        "id": "edyY3ybKOHRE",
        "outputId": "18f47531-6cd8-453a-cb24-ab0c89f9ab96"
      },
      "outputs": [
        {
          "output_type": "execute_result",
          "data": {
            "text/plain": [
              "       ICAO Empresa Aerea Numero Voo Codigo DI Codigo Tipo Linha  \\\n",
              "588456                QTR       8157         0                 G   \n",
              "\n",
              "       ICAO Aerodromo Origem ICAO Aerodromo Destino    Partida Prevista  \\\n",
              "588456                  SAEZ                   SEQM 2021-12-17 05:45:00   \n",
              "\n",
              "       Partida Real    Chegada Prevista Chegada Real  ... Ano_PR  DOW_PR  \\\n",
              "588456          NaT 2021-12-17 11:55:00          NaT  ...   <NA>     NaN   \n",
              "\n",
              "        Dia_CP  Mes_CP Ano_CP       DOW_CP  Dia_CR  Mes_CR Ano_CR  DOW_CR  \n",
              "588456      17      12   2021  Sexta-feira    <NA>    <NA>   <NA>     NaN  \n",
              "\n",
              "[1 rows x 27 columns]"
            ],
            "text/html": [
              "\n",
              "  <div id=\"df-0e45e8b3-e9cb-45b1-882c-73250b9eb8c4\">\n",
              "    <div class=\"colab-df-container\">\n",
              "      <div>\n",
              "<style scoped>\n",
              "    .dataframe tbody tr th:only-of-type {\n",
              "        vertical-align: middle;\n",
              "    }\n",
              "\n",
              "    .dataframe tbody tr th {\n",
              "        vertical-align: top;\n",
              "    }\n",
              "\n",
              "    .dataframe thead th {\n",
              "        text-align: right;\n",
              "    }\n",
              "</style>\n",
              "<table border=\"1\" class=\"dataframe\">\n",
              "  <thead>\n",
              "    <tr style=\"text-align: right;\">\n",
              "      <th></th>\n",
              "      <th>ICAO Empresa Aerea</th>\n",
              "      <th>Numero Voo</th>\n",
              "      <th>Codigo DI</th>\n",
              "      <th>Codigo Tipo Linha</th>\n",
              "      <th>ICAO Aerodromo Origem</th>\n",
              "      <th>ICAO Aerodromo Destino</th>\n",
              "      <th>Partida Prevista</th>\n",
              "      <th>Partida Real</th>\n",
              "      <th>Chegada Prevista</th>\n",
              "      <th>Chegada Real</th>\n",
              "      <th>...</th>\n",
              "      <th>Ano_PR</th>\n",
              "      <th>DOW_PR</th>\n",
              "      <th>Dia_CP</th>\n",
              "      <th>Mes_CP</th>\n",
              "      <th>Ano_CP</th>\n",
              "      <th>DOW_CP</th>\n",
              "      <th>Dia_CR</th>\n",
              "      <th>Mes_CR</th>\n",
              "      <th>Ano_CR</th>\n",
              "      <th>DOW_CR</th>\n",
              "    </tr>\n",
              "  </thead>\n",
              "  <tbody>\n",
              "    <tr>\n",
              "      <th>588456</th>\n",
              "      <td>QTR</td>\n",
              "      <td>8157</td>\n",
              "      <td>0</td>\n",
              "      <td>G</td>\n",
              "      <td>SAEZ</td>\n",
              "      <td>SEQM</td>\n",
              "      <td>2021-12-17 05:45:00</td>\n",
              "      <td>NaT</td>\n",
              "      <td>2021-12-17 11:55:00</td>\n",
              "      <td>NaT</td>\n",
              "      <td>...</td>\n",
              "      <td>&lt;NA&gt;</td>\n",
              "      <td>NaN</td>\n",
              "      <td>17</td>\n",
              "      <td>12</td>\n",
              "      <td>2021</td>\n",
              "      <td>Sexta-feira</td>\n",
              "      <td>&lt;NA&gt;</td>\n",
              "      <td>&lt;NA&gt;</td>\n",
              "      <td>&lt;NA&gt;</td>\n",
              "      <td>NaN</td>\n",
              "    </tr>\n",
              "  </tbody>\n",
              "</table>\n",
              "<p>1 rows × 27 columns</p>\n",
              "</div>\n",
              "      <button class=\"colab-df-convert\" onclick=\"convertToInteractive('df-0e45e8b3-e9cb-45b1-882c-73250b9eb8c4')\"\n",
              "              title=\"Convert this dataframe to an interactive table.\"\n",
              "              style=\"display:none;\">\n",
              "        \n",
              "  <svg xmlns=\"http://www.w3.org/2000/svg\" height=\"24px\"viewBox=\"0 0 24 24\"\n",
              "       width=\"24px\">\n",
              "    <path d=\"M0 0h24v24H0V0z\" fill=\"none\"/>\n",
              "    <path d=\"M18.56 5.44l.94 2.06.94-2.06 2.06-.94-2.06-.94-.94-2.06-.94 2.06-2.06.94zm-11 1L8.5 8.5l.94-2.06 2.06-.94-2.06-.94L8.5 2.5l-.94 2.06-2.06.94zm10 10l.94 2.06.94-2.06 2.06-.94-2.06-.94-.94-2.06-.94 2.06-2.06.94z\"/><path d=\"M17.41 7.96l-1.37-1.37c-.4-.4-.92-.59-1.43-.59-.52 0-1.04.2-1.43.59L10.3 9.45l-7.72 7.72c-.78.78-.78 2.05 0 2.83L4 21.41c.39.39.9.59 1.41.59.51 0 1.02-.2 1.41-.59l7.78-7.78 2.81-2.81c.8-.78.8-2.07 0-2.86zM5.41 20L4 18.59l7.72-7.72 1.47 1.35L5.41 20z\"/>\n",
              "  </svg>\n",
              "      </button>\n",
              "      \n",
              "  <style>\n",
              "    .colab-df-container {\n",
              "      display:flex;\n",
              "      flex-wrap:wrap;\n",
              "      gap: 12px;\n",
              "    }\n",
              "\n",
              "    .colab-df-convert {\n",
              "      background-color: #E8F0FE;\n",
              "      border: none;\n",
              "      border-radius: 50%;\n",
              "      cursor: pointer;\n",
              "      display: none;\n",
              "      fill: #1967D2;\n",
              "      height: 32px;\n",
              "      padding: 0 0 0 0;\n",
              "      width: 32px;\n",
              "    }\n",
              "\n",
              "    .colab-df-convert:hover {\n",
              "      background-color: #E2EBFA;\n",
              "      box-shadow: 0px 1px 2px rgba(60, 64, 67, 0.3), 0px 1px 3px 1px rgba(60, 64, 67, 0.15);\n",
              "      fill: #174EA6;\n",
              "    }\n",
              "\n",
              "    [theme=dark] .colab-df-convert {\n",
              "      background-color: #3B4455;\n",
              "      fill: #D2E3FC;\n",
              "    }\n",
              "\n",
              "    [theme=dark] .colab-df-convert:hover {\n",
              "      background-color: #434B5C;\n",
              "      box-shadow: 0px 1px 3px 1px rgba(0, 0, 0, 0.15);\n",
              "      filter: drop-shadow(0px 1px 2px rgba(0, 0, 0, 0.3));\n",
              "      fill: #FFFFFF;\n",
              "    }\n",
              "  </style>\n",
              "\n",
              "      <script>\n",
              "        const buttonEl =\n",
              "          document.querySelector('#df-0e45e8b3-e9cb-45b1-882c-73250b9eb8c4 button.colab-df-convert');\n",
              "        buttonEl.style.display =\n",
              "          google.colab.kernel.accessAllowed ? 'block' : 'none';\n",
              "\n",
              "        async function convertToInteractive(key) {\n",
              "          const element = document.querySelector('#df-0e45e8b3-e9cb-45b1-882c-73250b9eb8c4');\n",
              "          const dataTable =\n",
              "            await google.colab.kernel.invokeFunction('convertToInteractive',\n",
              "                                                     [key], {});\n",
              "          if (!dataTable) return;\n",
              "\n",
              "          const docLinkHtml = 'Like what you see? Visit the ' +\n",
              "            '<a target=\"_blank\" href=https://colab.research.google.com/notebooks/data_table.ipynb>data table notebook</a>'\n",
              "            + ' to learn more about interactive tables.';\n",
              "          element.innerHTML = '';\n",
              "          dataTable['output_type'] = 'display_data';\n",
              "          await google.colab.output.renderOutput(dataTable, element);\n",
              "          const docLink = document.createElement('div');\n",
              "          docLink.innerHTML = docLinkHtml;\n",
              "          element.appendChild(docLink);\n",
              "        }\n",
              "      </script>\n",
              "    </div>\n",
              "  </div>\n",
              "  "
            ]
          },
          "metadata": {},
          "execution_count": 26
        }
      ],
      "source": [
        "anac_annual_df[anac_annual_df.duplicated()]"
      ]
    },
    {
      "cell_type": "markdown",
      "source": [
        "## Remoção de dados duplicados"
      ],
      "metadata": {
        "id": "2BOI9WTj4qo4"
      }
    },
    {
      "cell_type": "code",
      "execution_count": null,
      "metadata": {
        "id": "z0wYDlRsO6sR"
      },
      "outputs": [],
      "source": [
        "anac_annual_df.drop_duplicates(inplace=True)"
      ]
    },
    {
      "cell_type": "markdown",
      "metadata": {
        "id": "fu0Sr4aOaas4"
      },
      "source": [
        "##Verificação de dados ausentes"
      ]
    },
    {
      "cell_type": "code",
      "execution_count": null,
      "metadata": {
        "colab": {
          "base_uri": "https://localhost:8080/"
        },
        "id": "n91m3QBEOmob",
        "outputId": "df20ad89-26e5-41eb-deb9-4d5cdf4303e5"
      },
      "outputs": [
        {
          "output_type": "execute_result",
          "data": {
            "text/plain": [
              "ICAO Empresa Aerea            0\n",
              "Numero Voo                    0\n",
              "Codigo DI                     0\n",
              "Codigo Tipo Linha          2150\n",
              "ICAO Aerodromo Origem         0\n",
              "ICAO Aerodromo Destino        0\n",
              "Partida Prevista           1093\n",
              "Partida Real              29935\n",
              "Chegada Prevista           1093\n",
              "Chegada Real              29934\n",
              "Situacao Voo                  0\n",
              "Dia_PP                     1093\n",
              "Mes_PP                     1093\n",
              "Ano_PP                     1093\n",
              "DOW_PP                     1093\n",
              "Dia_PR                    29935\n",
              "Mes_PR                    29935\n",
              "Ano_PR                    29935\n",
              "DOW_PR                    29935\n",
              "Dia_CP                     1093\n",
              "Mes_CP                     1093\n",
              "Ano_CP                     1093\n",
              "DOW_CP                     1093\n",
              "Dia_CR                    29934\n",
              "Mes_CR                    29934\n",
              "Ano_CR                    29934\n",
              "DOW_CR                    29934\n",
              "dtype: int64"
            ]
          },
          "metadata": {},
          "execution_count": 28
        }
      ],
      "source": [
        "anac_annual_df.isnull().sum()"
      ]
    },
    {
      "cell_type": "markdown",
      "metadata": {
        "id": "u21cX-_zW1pS"
      },
      "source": [
        "# Distribuição dos dados"
      ]
    },
    {
      "cell_type": "code",
      "execution_count": null,
      "metadata": {
        "colab": {
          "base_uri": "https://localhost:8080/",
          "height": 253
        },
        "id": "TJ8IeonKVMOL",
        "outputId": "d4e9f2bf-da98-4a72-e7ae-db865f16c099"
      },
      "outputs": [
        {
          "output_type": "execute_result",
          "data": {
            "text/plain": [
              "       ICAO Empresa Aerea Numero Voo Codigo DI Codigo Tipo Linha  \\\n",
              "count              609800     609800    609800            607650   \n",
              "unique                118       5717        18                 5   \n",
              "top                   AZU       4102         0                 N   \n",
              "freq               231932        876    338090            532582   \n",
              "\n",
              "       ICAO Aerodromo Origem ICAO Aerodromo Destino Situacao Voo       DOW_PP  \\\n",
              "count                 609800                 609800       609800       608707   \n",
              "unique                   314                    311            3            7   \n",
              "top                     SBGR                   SBGR    REALIZADO  Sexta-feira   \n",
              "freq                   88839                  89985       579866        91095   \n",
              "\n",
              "             DOW_PR       DOW_CP       DOW_CR  \n",
              "count        579865       608707       579866  \n",
              "unique            7            7            7  \n",
              "top     Sexta-feira  Sexta-feira  Sexta-feira  \n",
              "freq          86629        91171        86857  "
            ],
            "text/html": [
              "\n",
              "  <div id=\"df-75584cff-fa1e-4686-b830-e7e755a2b768\">\n",
              "    <div class=\"colab-df-container\">\n",
              "      <div>\n",
              "<style scoped>\n",
              "    .dataframe tbody tr th:only-of-type {\n",
              "        vertical-align: middle;\n",
              "    }\n",
              "\n",
              "    .dataframe tbody tr th {\n",
              "        vertical-align: top;\n",
              "    }\n",
              "\n",
              "    .dataframe thead th {\n",
              "        text-align: right;\n",
              "    }\n",
              "</style>\n",
              "<table border=\"1\" class=\"dataframe\">\n",
              "  <thead>\n",
              "    <tr style=\"text-align: right;\">\n",
              "      <th></th>\n",
              "      <th>ICAO Empresa Aerea</th>\n",
              "      <th>Numero Voo</th>\n",
              "      <th>Codigo DI</th>\n",
              "      <th>Codigo Tipo Linha</th>\n",
              "      <th>ICAO Aerodromo Origem</th>\n",
              "      <th>ICAO Aerodromo Destino</th>\n",
              "      <th>Situacao Voo</th>\n",
              "      <th>DOW_PP</th>\n",
              "      <th>DOW_PR</th>\n",
              "      <th>DOW_CP</th>\n",
              "      <th>DOW_CR</th>\n",
              "    </tr>\n",
              "  </thead>\n",
              "  <tbody>\n",
              "    <tr>\n",
              "      <th>count</th>\n",
              "      <td>609800</td>\n",
              "      <td>609800</td>\n",
              "      <td>609800</td>\n",
              "      <td>607650</td>\n",
              "      <td>609800</td>\n",
              "      <td>609800</td>\n",
              "      <td>609800</td>\n",
              "      <td>608707</td>\n",
              "      <td>579865</td>\n",
              "      <td>608707</td>\n",
              "      <td>579866</td>\n",
              "    </tr>\n",
              "    <tr>\n",
              "      <th>unique</th>\n",
              "      <td>118</td>\n",
              "      <td>5717</td>\n",
              "      <td>18</td>\n",
              "      <td>5</td>\n",
              "      <td>314</td>\n",
              "      <td>311</td>\n",
              "      <td>3</td>\n",
              "      <td>7</td>\n",
              "      <td>7</td>\n",
              "      <td>7</td>\n",
              "      <td>7</td>\n",
              "    </tr>\n",
              "    <tr>\n",
              "      <th>top</th>\n",
              "      <td>AZU</td>\n",
              "      <td>4102</td>\n",
              "      <td>0</td>\n",
              "      <td>N</td>\n",
              "      <td>SBGR</td>\n",
              "      <td>SBGR</td>\n",
              "      <td>REALIZADO</td>\n",
              "      <td>Sexta-feira</td>\n",
              "      <td>Sexta-feira</td>\n",
              "      <td>Sexta-feira</td>\n",
              "      <td>Sexta-feira</td>\n",
              "    </tr>\n",
              "    <tr>\n",
              "      <th>freq</th>\n",
              "      <td>231932</td>\n",
              "      <td>876</td>\n",
              "      <td>338090</td>\n",
              "      <td>532582</td>\n",
              "      <td>88839</td>\n",
              "      <td>89985</td>\n",
              "      <td>579866</td>\n",
              "      <td>91095</td>\n",
              "      <td>86629</td>\n",
              "      <td>91171</td>\n",
              "      <td>86857</td>\n",
              "    </tr>\n",
              "  </tbody>\n",
              "</table>\n",
              "</div>\n",
              "      <button class=\"colab-df-convert\" onclick=\"convertToInteractive('df-75584cff-fa1e-4686-b830-e7e755a2b768')\"\n",
              "              title=\"Convert this dataframe to an interactive table.\"\n",
              "              style=\"display:none;\">\n",
              "        \n",
              "  <svg xmlns=\"http://www.w3.org/2000/svg\" height=\"24px\"viewBox=\"0 0 24 24\"\n",
              "       width=\"24px\">\n",
              "    <path d=\"M0 0h24v24H0V0z\" fill=\"none\"/>\n",
              "    <path d=\"M18.56 5.44l.94 2.06.94-2.06 2.06-.94-2.06-.94-.94-2.06-.94 2.06-2.06.94zm-11 1L8.5 8.5l.94-2.06 2.06-.94-2.06-.94L8.5 2.5l-.94 2.06-2.06.94zm10 10l.94 2.06.94-2.06 2.06-.94-2.06-.94-.94-2.06-.94 2.06-2.06.94z\"/><path d=\"M17.41 7.96l-1.37-1.37c-.4-.4-.92-.59-1.43-.59-.52 0-1.04.2-1.43.59L10.3 9.45l-7.72 7.72c-.78.78-.78 2.05 0 2.83L4 21.41c.39.39.9.59 1.41.59.51 0 1.02-.2 1.41-.59l7.78-7.78 2.81-2.81c.8-.78.8-2.07 0-2.86zM5.41 20L4 18.59l7.72-7.72 1.47 1.35L5.41 20z\"/>\n",
              "  </svg>\n",
              "      </button>\n",
              "      \n",
              "  <style>\n",
              "    .colab-df-container {\n",
              "      display:flex;\n",
              "      flex-wrap:wrap;\n",
              "      gap: 12px;\n",
              "    }\n",
              "\n",
              "    .colab-df-convert {\n",
              "      background-color: #E8F0FE;\n",
              "      border: none;\n",
              "      border-radius: 50%;\n",
              "      cursor: pointer;\n",
              "      display: none;\n",
              "      fill: #1967D2;\n",
              "      height: 32px;\n",
              "      padding: 0 0 0 0;\n",
              "      width: 32px;\n",
              "    }\n",
              "\n",
              "    .colab-df-convert:hover {\n",
              "      background-color: #E2EBFA;\n",
              "      box-shadow: 0px 1px 2px rgba(60, 64, 67, 0.3), 0px 1px 3px 1px rgba(60, 64, 67, 0.15);\n",
              "      fill: #174EA6;\n",
              "    }\n",
              "\n",
              "    [theme=dark] .colab-df-convert {\n",
              "      background-color: #3B4455;\n",
              "      fill: #D2E3FC;\n",
              "    }\n",
              "\n",
              "    [theme=dark] .colab-df-convert:hover {\n",
              "      background-color: #434B5C;\n",
              "      box-shadow: 0px 1px 3px 1px rgba(0, 0, 0, 0.15);\n",
              "      filter: drop-shadow(0px 1px 2px rgba(0, 0, 0, 0.3));\n",
              "      fill: #FFFFFF;\n",
              "    }\n",
              "  </style>\n",
              "\n",
              "      <script>\n",
              "        const buttonEl =\n",
              "          document.querySelector('#df-75584cff-fa1e-4686-b830-e7e755a2b768 button.colab-df-convert');\n",
              "        buttonEl.style.display =\n",
              "          google.colab.kernel.accessAllowed ? 'block' : 'none';\n",
              "\n",
              "        async function convertToInteractive(key) {\n",
              "          const element = document.querySelector('#df-75584cff-fa1e-4686-b830-e7e755a2b768');\n",
              "          const dataTable =\n",
              "            await google.colab.kernel.invokeFunction('convertToInteractive',\n",
              "                                                     [key], {});\n",
              "          if (!dataTable) return;\n",
              "\n",
              "          const docLinkHtml = 'Like what you see? Visit the ' +\n",
              "            '<a target=\"_blank\" href=https://colab.research.google.com/notebooks/data_table.ipynb>data table notebook</a>'\n",
              "            + ' to learn more about interactive tables.';\n",
              "          element.innerHTML = '';\n",
              "          dataTable['output_type'] = 'display_data';\n",
              "          await google.colab.output.renderOutput(dataTable, element);\n",
              "          const docLink = document.createElement('div');\n",
              "          docLink.innerHTML = docLinkHtml;\n",
              "          element.appendChild(docLink);\n",
              "        }\n",
              "      </script>\n",
              "    </div>\n",
              "  </div>\n",
              "  "
            ]
          },
          "metadata": {},
          "execution_count": 29
        }
      ],
      "source": [
        "anac_annual_df.describe(include=['category'])"
      ]
    },
    {
      "cell_type": "markdown",
      "metadata": {
        "id": "7nQW4lO6V5uo"
      },
      "source": [
        "De modo geral:\n",
        "\n",
        "A maioria dos voos foram realizados;\n",
        "\n",
        "A empresa aérea com mais voos foi a empresa brasileira Azul;\n",
        "\n",
        "O aeroporto com mais voos foi o de Guarulhos - GOVERNADOR ANDRÉ FRANCO MONTORO (SBGR);\n",
        "\n",
        "Existem dados ausentes a respeito da Partida e Chegada;\n",
        "\n",
        "Ao todo foram realizados 579866 voos no ano de 2021."
      ]
    },
    {
      "cell_type": "markdown",
      "metadata": {
        "id": "N1cQoRNCEvGH"
      },
      "source": [
        "#Análise de Dados"
      ]
    },
    {
      "cell_type": "markdown",
      "metadata": {
        "id": "3XZagJfBfDCL"
      },
      "source": [
        "##Voos em relação aos meses"
      ]
    },
    {
      "cell_type": "code",
      "execution_count": null,
      "metadata": {
        "colab": {
          "base_uri": "https://localhost:8080/",
          "height": 397
        },
        "id": "nytZwqdqe0eh",
        "outputId": "8fe67bbc-4a70-430e-c485-80f8bfe833af"
      },
      "outputs": [
        {
          "output_type": "execute_result",
          "data": {
            "text/plain": [
              "Text(0.5, 0, 'Mês')"
            ]
          },
          "metadata": {},
          "execution_count": 30
        },
        {
          "output_type": "display_data",
          "data": {
            "text/plain": [
              "<Figure size 1440x1440 with 1 Axes>"
            ],
            "image/png": "[encoded data removed]"
          },
          "metadata": {}
        }
      ],
      "source": [
        "anac_meses_df = anac_annual_df\n",
        "anac_meses_df['Mes_PP'] = anac_meses_df['Mes_PP'].astype('category')\n",
        "\n",
        "plt.figure(figsize=(20,20))\n",
        "ax = plt.subplot(3,1,1)\n",
        "ax.set_title('Situação dos voos por mês', fontsize=18, loc='left')\n",
        "sns.countplot(x='Mes_PP', hue='Situacao Voo', data=anac_meses_df)\n",
        "ax.set_xlabel(\"Mês\")"
      ]
    },
    {
      "cell_type": "markdown",
      "metadata": {
        "id": "hdoOQDqr4_Qn"
      },
      "source": [
        "##Situação dos voos"
      ]
    },
    {
      "cell_type": "code",
      "execution_count": null,
      "metadata": {
        "id": "eclHMIybywJE",
        "colab": {
          "base_uri": "https://localhost:8080/",
          "height": 536
        },
        "outputId": "9883bad4-8378-4030-eb4b-816b1aaa9057"
      },
      "outputs": [
        {
          "output_type": "stream",
          "name": "stderr",
          "text": [
            "/usr/local/lib/python3.8/dist-packages/seaborn/_decorators.py:36: FutureWarning: Pass the following variable as a keyword arg: x. From version 0.12, the only valid positional argument will be `data`, and passing other arguments without an explicit keyword will result in an error or misinterpretation.\n",
            "  warnings.warn(\n"
          ]
        },
        {
          "output_type": "display_data",
          "data": {
            "text/plain": [
              "<Figure size 1440x576 with 1 Axes>"
            ],
            "image/png": "[encoded data removed]"
          },
          "metadata": {}
        }
      ],
      "source": [
        "f,ax=plt.subplots(figsize=(20,8))\n",
        "sns.countplot('Situacao Voo',order = anac_annual_df['Situacao Voo'].value_counts().index, data=anac_annual_df,ax=ax)\n",
        "ax.set_title('Situacao Voo')\n",
        "plt.show()"
      ]
    },
    {
      "cell_type": "markdown",
      "source": [
        "## Voos cancelados por CIA"
      ],
      "metadata": {
        "id": "wnZA2N7o7OR0"
      }
    },
    {
      "cell_type": "code",
      "execution_count": null,
      "metadata": {
        "id": "7Q8hnK3xzmSB",
        "colab": {
          "base_uri": "https://localhost:8080/",
          "height": 406
        },
        "outputId": "d7bb56f6-0778-4651-e3b9-2f8dc4c31b6f"
      },
      "outputs": [
        {
          "output_type": "display_data",
          "data": {
            "text/plain": [
              "<Figure size 2160x720 with 1 Axes>"
            ],
            "image/png": "[encoded data removed]"
          },
          "metadata": {}
        }
      ],
      "source": [
        "Voos_cancelados = anac_annual_df[(anac_annual_df['Situacao Voo'] == 'CANCELADO')]\n",
        "\n",
        "plt.figure(figsize=(30, 10))\n",
        "ax = sns.countplot(x=Voos_cancelados['ICAO Empresa Aerea'], data=anac_annual_df)\n",
        "labels = ax.get_xticklabels()\n",
        "ax.set_xticklabels(labels, rotation=90)\n",
        "\n",
        "plt.show()"
      ]
    },
    {
      "cell_type": "markdown",
      "source": [
        "## Voos realizados por CIA"
      ],
      "metadata": {
        "id": "Q1Tmj4vF7QbI"
      }
    },
    {
      "cell_type": "code",
      "source": [
        "Voos_realizados = anac_annual_df[(anac_annual_df['Situacao Voo'] == 'REALIZADO')]\n",
        "\n",
        "plt.figure(figsize=(30, 10))\n",
        "ax = sns.countplot(x=Voos_realizados['ICAO Empresa Aerea'], data=anac_annual_df)\n",
        "labels = ax.get_xticklabels()\n",
        "ax.set_xticklabels(labels, rotation=90)\n",
        "\n",
        "plt.show()"
      ],
      "metadata": {
        "colab": {
          "base_uri": "https://localhost:8080/",
          "height": 403
        },
        "id": "M5xn4EVdW4Kd",
        "outputId": "e3328b39-631f-4f4e-f0ad-0ad62716cc3f"
      },
      "execution_count": null,
      "outputs": [
        {
          "output_type": "display_data",
          "data": {
            "text/plain": [
              "<Figure size 2160x720 with 1 Axes>"
            ],
            "image/png": "[encoded data removed]"
          },
          "metadata": {}
        }
      ]
    },
    {
      "cell_type": "markdown",
      "source": [
        "##Volume de voos por tipo de linha"
      ],
      "metadata": {
        "id": "Y26802be7HGF"
      }
    },
    {
      "cell_type": "code",
      "execution_count": null,
      "metadata": {
        "id": "YB3jW9oTG2zS",
        "colab": {
          "base_uri": "https://localhost:8080/",
          "height": 206
        },
        "outputId": "b20d100d-1b35-4b57-8302-8ee62e2ab236"
      },
      "outputs": [
        {
          "output_type": "execute_result",
          "data": {
            "text/plain": [
              "   Codigo Tipo Linha\n",
              "N             532582\n",
              "X              38432\n",
              "C              17710\n",
              "I              10899\n",
              "G               8027"
            ],
            "text/html": [
              "\n",
              "  <div id=\"df-6bcc5786-5997-47bc-95f4-4fe71103ebf8\">\n",
              "    <div class=\"colab-df-container\">\n",
              "      <div>\n",
              "<style scoped>\n",
              "    .dataframe tbody tr th:only-of-type {\n",
              "        vertical-align: middle;\n",
              "    }\n",
              "\n",
              "    .dataframe tbody tr th {\n",
              "        vertical-align: top;\n",
              "    }\n",
              "\n",
              "    .dataframe thead th {\n",
              "        text-align: right;\n",
              "    }\n",
              "</style>\n",
              "<table border=\"1\" class=\"dataframe\">\n",
              "  <thead>\n",
              "    <tr style=\"text-align: right;\">\n",
              "      <th></th>\n",
              "      <th>Codigo Tipo Linha</th>\n",
              "    </tr>\n",
              "  </thead>\n",
              "  <tbody>\n",
              "    <tr>\n",
              "      <th>N</th>\n",
              "      <td>532582</td>\n",
              "    </tr>\n",
              "    <tr>\n",
              "      <th>X</th>\n",
              "      <td>38432</td>\n",
              "    </tr>\n",
              "    <tr>\n",
              "      <th>C</th>\n",
              "      <td>17710</td>\n",
              "    </tr>\n",
              "    <tr>\n",
              "      <th>I</th>\n",
              "      <td>10899</td>\n",
              "    </tr>\n",
              "    <tr>\n",
              "      <th>G</th>\n",
              "      <td>8027</td>\n",
              "    </tr>\n",
              "  </tbody>\n",
              "</table>\n",
              "</div>\n",
              "      <button class=\"colab-df-convert\" onclick=\"convertToInteractive('df-6bcc5786-5997-47bc-95f4-4fe71103ebf8')\"\n",
              "              title=\"Convert this dataframe to an interactive table.\"\n",
              "              style=\"display:none;\">\n",
              "        \n",
              "  <svg xmlns=\"http://www.w3.org/2000/svg\" height=\"24px\"viewBox=\"0 0 24 24\"\n",
              "       width=\"24px\">\n",
              "    <path d=\"M0 0h24v24H0V0z\" fill=\"none\"/>\n",
              "    <path d=\"M18.56 5.44l.94 2.06.94-2.06 2.06-.94-2.06-.94-.94-2.06-.94 2.06-2.06.94zm-11 1L8.5 8.5l.94-2.06 2.06-.94-2.06-.94L8.5 2.5l-.94 2.06-2.06.94zm10 10l.94 2.06.94-2.06 2.06-.94-2.06-.94-.94-2.06-.94 2.06-2.06.94z\"/><path d=\"M17.41 7.96l-1.37-1.37c-.4-.4-.92-.59-1.43-.59-.52 0-1.04.2-1.43.59L10.3 9.45l-7.72 7.72c-.78.78-.78 2.05 0 2.83L4 21.41c.39.39.9.59 1.41.59.51 0 1.02-.2 1.41-.59l7.78-7.78 2.81-2.81c.8-.78.8-2.07 0-2.86zM5.41 20L4 18.59l7.72-7.72 1.47 1.35L5.41 20z\"/>\n",
              "  </svg>\n",
              "      </button>\n",
              "      \n",
              "  <style>\n",
              "    .colab-df-container {\n",
              "      display:flex;\n",
              "      flex-wrap:wrap;\n",
              "      gap: 12px;\n",
              "    }\n",
              "\n",
              "    .colab-df-convert {\n",
              "      background-color: #E8F0FE;\n",
              "      border: none;\n",
              "      border-radius: 50%;\n",
              "      cursor: pointer;\n",
              "      display: none;\n",
              "      fill: #1967D2;\n",
              "      height: 32px;\n",
              "      padding: 0 0 0 0;\n",
              "      width: 32px;\n",
              "    }\n",
              "\n",
              "    .colab-df-convert:hover {\n",
              "      background-color: #E2EBFA;\n",
              "      box-shadow: 0px 1px 2px rgba(60, 64, 67, 0.3), 0px 1px 3px 1px rgba(60, 64, 67, 0.15);\n",
              "      fill: #174EA6;\n",
              "    }\n",
              "\n",
              "    [theme=dark] .colab-df-convert {\n",
              "      background-color: #3B4455;\n",
              "      fill: #D2E3FC;\n",
              "    }\n",
              "\n",
              "    [theme=dark] .colab-df-convert:hover {\n",
              "      background-color: #434B5C;\n",
              "      box-shadow: 0px 1px 3px 1px rgba(0, 0, 0, 0.15);\n",
              "      filter: drop-shadow(0px 1px 2px rgba(0, 0, 0, 0.3));\n",
              "      fill: #FFFFFF;\n",
              "    }\n",
              "  </style>\n",
              "\n",
              "      <script>\n",
              "        const buttonEl =\n",
              "          document.querySelector('#df-6bcc5786-5997-47bc-95f4-4fe71103ebf8 button.colab-df-convert');\n",
              "        buttonEl.style.display =\n",
              "          google.colab.kernel.accessAllowed ? 'block' : 'none';\n",
              "\n",
              "        async function convertToInteractive(key) {\n",
              "          const element = document.querySelector('#df-6bcc5786-5997-47bc-95f4-4fe71103ebf8');\n",
              "          const dataTable =\n",
              "            await google.colab.kernel.invokeFunction('convertToInteractive',\n",
              "                                                     [key], {});\n",
              "          if (!dataTable) return;\n",
              "\n",
              "          const docLinkHtml = 'Like what you see? Visit the ' +\n",
              "            '<a target=\"_blank\" href=https://colab.research.google.com/notebooks/data_table.ipynb>data table notebook</a>'\n",
              "            + ' to learn more about interactive tables.';\n",
              "          element.innerHTML = '';\n",
              "          dataTable['output_type'] = 'display_data';\n",
              "          await google.colab.output.renderOutput(dataTable, element);\n",
              "          const docLink = document.createElement('div');\n",
              "          docLink.innerHTML = docLinkHtml;\n",
              "          element.appendChild(docLink);\n",
              "        }\n",
              "      </script>\n",
              "    </div>\n",
              "  </div>\n",
              "  "
            ]
          },
          "metadata": {},
          "execution_count": 34
        }
      ],
      "source": [
        "anac_annual_df['Codigo Tipo Linha'].value_counts().to_frame()"
      ]
    },
    {
      "cell_type": "markdown",
      "source": [
        "## Voos domésticos cancelados por CIA"
      ],
      "metadata": {
        "id": "tktyaXvO7TIP"
      }
    },
    {
      "cell_type": "code",
      "source": [
        "anac_annual_df_sb_cancelled = anac_annual_df[(anac_annual_df['Codigo Tipo Linha'] == 'N') & (anac_annual_df['Situacao Voo']=='CANCELADO')]\n",
        "\n",
        "plt.figure(figsize=(50, 10))\n",
        "ax = sns.countplot(x='ICAO Aerodromo Origem', data=anac_annual_df_sb_cancelled)\n",
        "ax.set_title('Aeroportos com voos domésticos cancelados')\n",
        "ax.set_xticklabels(labels, rotation=90)\n",
        "\n",
        "plt.show()"
      ],
      "metadata": {
        "colab": {
          "base_uri": "https://localhost:8080/",
          "height": 261
        },
        "id": "RyMjITpQl2sW",
        "outputId": "9ac3ce09-6896-4505-e74d-9249d4cb55cb"
      },
      "execution_count": null,
      "outputs": [
        {
          "output_type": "display_data",
          "data": {
            "text/plain": [
              "<Figure size 3600x720 with 1 Axes>"
            ],
            "image/png": "[encoded data removed]"
          },
          "metadata": {}
        }
      ]
    },
    {
      "cell_type": "markdown",
      "source": [
        "Aerodromos Origem com mais cancelamentos:\n",
        "\n",
        "SBGR - Guarulhos (SP), BR\n",
        "\n",
        "SBKP - Viracopos/Campinas (SP), BR\n",
        "\n",
        "SBSV - Salvador (BA), BR"
      ],
      "metadata": {
        "id": "mwEErvpU4MJg"
      }
    },
    {
      "cell_type": "markdown",
      "source": [
        "## Voos domésticos realizados por CIA"
      ],
      "metadata": {
        "id": "L2hjigFv7W6W"
      }
    },
    {
      "cell_type": "code",
      "execution_count": null,
      "metadata": {
        "id": "0vTNIG9N08Rq",
        "colab": {
          "base_uri": "https://localhost:8080/",
          "height": 259
        },
        "outputId": "419e8aaa-ac95-4c1e-f0b1-ff3459c9d4fb"
      },
      "outputs": [
        {
          "output_type": "display_data",
          "data": {
            "text/plain": [
              "<Figure size 3600x720 with 1 Axes>"
            ],
            "image/png": "[encoded data removed]"
          },
          "metadata": {}
        }
      ],
      "source": [
        "anac_annual_df_sb_realizado = anac_annual_df[(anac_annual_df['Codigo Tipo Linha'] == 'N') & (anac_annual_df['Situacao Voo']=='REALIZADO')]\n",
        "\n",
        "plt.figure(figsize=(50, 10))\n",
        "ax = sns.countplot(x='ICAO Aerodromo Origem', data=anac_annual_df_sb_realizado)\n",
        "ax.set_title('Aeroportos com voos domésticos realizados')\n",
        "ax.set_xticklabels(labels, rotation=90)\n",
        "\n",
        "plt.show()"
      ]
    },
    {
      "cell_type": "markdown",
      "source": [
        "Aerodromos Origem com mais voos realizados:\n",
        "\n",
        "SBGR - Guarulhos (SP), BR\n",
        "\n",
        "SBKP - Viracopos/Campinas (SP), BR\n",
        "\n",
        "SBBR - BRASÍLIA (DF), BR"
      ],
      "metadata": {
        "id": "V8_Qm5_YjGWn"
      }
    },
    {
      "cell_type": "markdown",
      "metadata": {
        "id": "rDAbqGXoeOPA"
      },
      "source": [
        "##Correlação entre Partida Prevista e Partida Real para voos realizados\n",
        "\n"
      ]
    },
    {
      "cell_type": "code",
      "source": [
        "realizado = anac_annual_df[anac_annual_df['Situacao Voo'] == 'REALIZADO']\n",
        "compare_pp_pr = realizado[['Partida Prevista', 'Partida Real']]\n",
        "\n",
        "plt.figure(figsize=(10, 10))\n",
        "sns.scatterplot(data=compare_pp_pr, x='Partida Prevista', y='Partida Real')\n",
        "plt.show()"
      ],
      "metadata": {
        "colab": {
          "base_uri": "https://localhost:8080/",
          "height": 606
        },
        "id": "pfitpMp4odeg",
        "outputId": "b83a5355-f708-405c-ca62-7b51259065e5"
      },
      "execution_count": null,
      "outputs": [
        {
          "output_type": "display_data",
          "data": {
            "text/plain": [
              "<Figure size 720x720 with 1 Axes>"
            ],
            "image/png": "[encoded data removed]"
          },
          "metadata": {}
        }
      ]
    },
    {
      "cell_type": "markdown",
      "source": [
        "##Correlação entre Chegada Prevista e Chegada Real para voos realizados"
      ],
      "metadata": {
        "id": "TIWk6evp7dt3"
      }
    },
    {
      "cell_type": "code",
      "source": [
        "compare_cp_cr = realizado[['Chegada Prevista', 'Chegada Real']]\n",
        "\n",
        "plt.figure(figsize=(10, 10))\n",
        "sns.scatterplot(data=compare_cp_cr, x='Chegada Prevista', y='Chegada Real')\n",
        "plt.show()"
      ],
      "metadata": {
        "colab": {
          "base_uri": "https://localhost:8080/",
          "height": 606
        },
        "id": "TJBtlKPDqD1T",
        "outputId": "26112372-8550-4e89-a7a3-fffc5aed766b"
      },
      "execution_count": null,
      "outputs": [
        {
          "output_type": "display_data",
          "data": {
            "text/plain": [
              "<Figure size 720x720 with 1 Axes>"
            ],
            "image/png": "[encoded data removed]"
          },
          "metadata": {}
        }
      ]
    },
    {
      "cell_type": "markdown",
      "source": [
        "Com base nesses dois últimos gráficos observamos que existe uma correlação positiva. Podendo afirmar que os voos que estavam sendo previstos corresponderam em sua maioria com a previsão real."
      ],
      "metadata": {
        "id": "4GVVz2BFA82d"
      }
    },
    {
      "cell_type": "markdown",
      "source": [
        "##Dias da semana com mais voos realizados"
      ],
      "metadata": {
        "id": "Lq_9PPut7jdq"
      }
    },
    {
      "cell_type": "code",
      "source": [
        "ax = sns.countplot(x='DOW_PR', data=anac_annual_df)\n",
        "ax.set_title('Dias da semana com mais voos realizados')\n",
        "ax.set_xticklabels(ax.get_xticklabels(), rotation=-45)\n",
        "ax.set_xlabel(\"Dia da Semana\")\n",
        "\n",
        "plt.show()"
      ],
      "metadata": {
        "colab": {
          "base_uri": "https://localhost:8080/",
          "height": 342
        },
        "id": "Y6LmPSXb0_HC",
        "outputId": "bafc951b-e5e6-401a-9fc7-effe18778dbc"
      },
      "execution_count": null,
      "outputs": [
        {
          "output_type": "display_data",
          "data": {
            "text/plain": [
              "<Figure size 432x288 with 1 Axes>"
            ],
            "image/png": "[encoded data removed]"
          },
          "metadata": {}
        }
      ]
    },
    {
      "cell_type": "markdown",
      "source": [
        "##Dias da semana com mais voos cancelados"
      ],
      "metadata": {
        "id": "2JXEHPfL7mwb"
      }
    },
    {
      "cell_type": "code",
      "source": [
        "ax = sns.countplot(x='DOW_PP', data=anac_annual_df[anac_annual_df['Situacao Voo'] == 'CANCELADO'])\n",
        "ax.set_title('Dias da semana com mais voos cancelados')\n",
        "ax.set_xticklabels(ax.get_xticklabels(), rotation=-45)\n",
        "ax.set_xlabel(\"Dia da Semana\")\n",
        "\n",
        "plt.show()"
      ],
      "metadata": {
        "colab": {
          "base_uri": "https://localhost:8080/",
          "height": 342
        },
        "id": "GumlzpTJ2VxE",
        "outputId": "a95388c8-659c-4825-f24a-7c287d81af6e"
      },
      "execution_count": null,
      "outputs": [
        {
          "output_type": "display_data",
          "data": {
            "text/plain": [
              "<Figure size 432x288 with 1 Axes>"
            ],
            "image/png": "[encoded data removed]"
          },
          "metadata": {}
        }
      ]
    },
    {
      "cell_type": "markdown",
      "source": [
        "Assim concluímos com o que foi visto que:\n",
        "\n",
        "1.   Nos primeiros meses houve uma queda do número de voos e posterior aumento, com destaque para o mês de dezembro. Isso pode ser relacionado com o valor do combustível, onde foi visto um aumento também no início do ano de 2021; Juntamente com o período de lockdown nesses meses, onde os voos foram restringidos.\n",
        "2.   Em relação a Situação do Voo foi visto que no ano de 2021 houveram aproximadamente 600.000 voos Realizados e os Cancelados numa faixa menor que 50.000 voos.\n",
        "3.   As CIAs que mais se destacaram em número de voos Realizados foram: AZUL e GOL; Esse valor foi proporcional ao número também de cancelamentos entre elas. Destaque também para a TAM em seu número de voos Realizados.\n",
        "\n",
        "\n"
      ],
      "metadata": {
        "id": "NofDyMBt9D94"
      }
    },
    {
      "cell_type": "code",
      "source": [],
      "metadata": {
        "id": "r-xCIbMl9rTt"
      },
      "execution_count": null,
      "outputs": []
    }
  ],
  "metadata": {
    "colab": {
      "provenance": [],
      "toc_visible": true,
      "include_colab_link": true
    },
    "kernelspec": {
      "display_name": "Python 3",
      "name": "python3"
    },
    "language_info": {
      "name": "python"
    }
  },
  "nbformat": 4,
  "nbformat_minor": 0
}